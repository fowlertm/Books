{
 "cells": [
  {
   "cell_type": "markdown",
   "metadata": {},
   "source": [
    "### Patterns for Cleaner Python"
   ]
  },
  {
   "cell_type": "markdown",
   "metadata": {},
   "source": [
    "#### Assertions "
   ]
  },
  {
   "cell_type": "markdown",
   "metadata": {},
   "source": [
    "Author claims that assertions are a seriously under-appreciated language feature which allows for better error-detection and debugging. \n",
    "\n",
    "Imagine that we're building some functionality to apply a discount code to a product:"
   ]
  },
  {
   "cell_type": "code",
   "execution_count": null,
   "metadata": {},
   "outputs": [],
   "source": [
    "shoes = {'name': 'Fancy Shoes', 'price': 14900}\n",
    "\n",
    "def apply_discount(product, discount):\n",
    "    price = int(product['price'] * (1.0 - discount))\n",
    "    assert 0 <= price <= product['price']\n",
    "    return price \n",
    "\n",
    "apply_discount(shoes, .25)"
   ]
  },
  {
   "cell_type": "markdown",
   "metadata": {},
   "source": [
    "Note first that these shoes aren't $14,900 dollars, but instead 149.00 represented without a decimal. This avoids the trouble rounding and dealing with floats. \n",
    "\n",
    "For a valid discount amount, we have no trouble. But for an invalid amount: "
   ]
  },
  {
   "cell_type": "code",
   "execution_count": null,
   "metadata": {},
   "outputs": [],
   "source": [
    "apply_discount(shoes, 2.0)"
   ]
  },
  {
   "cell_type": "markdown",
   "metadata": {},
   "source": [
    "Our invalid argument throws an AssertionError, with a pointer to the line that is causing the problems. But what advantages does this have over regular exceptions? \n",
    "\n",
    "The author makes the case that assertions are meant as internal sanity checks in the code. Regular exceptions work beautifully for glaring errors such as passing an incorrect data type or referencing a non-existent file, but assertions make finding more subtle bugs a great deal easier. \n",
    "\n",
    "However, he goes on to note that assertions aren't intended to handle run-time errors. \n",
    "\n",
    "Our comprehension will be aided by an exposition on the internals of assertion implementation. According to the python documentation this is essentially what an assertion looks like under-the-hood:\n",
    "\n",
    "`assert_stmt ::= \"assert\" expression1 [\",\" expression2]`\n",
    "\n",
    "This boils down to: assert the first expression, and if that doesn't work, display the optional error message in expression2. \n",
    "\n",
    "The interpreter translates our written assert statements into something like this:\n",
    "\n",
    "`if __debug__: \n",
    "    if not expression1:\n",
    "        raise AssertionError(expression2)\n",
    "`\n",
    "\n",
    "Notice that the first thing this code does is check for the `__debug__` global variable, which is `True` under normal circumstances but not if optimizations are requested. Also, the optional expression2 gives us quite a lot of flexibility in bug checking. We can give ourselves messages, or include our email address so that users can send us information related to our code's failure. "
   ]
  },
  {
   "cell_type": "markdown",
   "metadata": {},
   "source": [
    "There are two major caveats to using assertions. The first involves the possible introduction of security risks into code if assertions are used to check whether or not an argument contains an incorrect or unexpected value. Assertions can be globally disabled in both the command line and CPython, causing all assertions to be compiled away at runtime. \n",
    "\n",
    "To see why this matters, take a look at the following code:"
   ]
  },
  {
   "cell_type": "code",
   "execution_count": null,
   "metadata": {},
   "outputs": [],
   "source": [
    "def delete_product(prod_id, user):\n",
    "    assert user.is_admin(), \"Sorry, you have to be an admin.\"\n",
    "    assert store.has_product(prod_id), \"We don't recognize that ID.\"\n",
    "    store.get_product(prod_id).delete()"
   ]
  },
  {
   "cell_type": "markdown",
   "metadata": {},
   "source": [
    "In this case, if the assert statements are turned into null operations neither of them run. This means that the check for the user's admin status doesn't run, and anyone can delete products, and that we can 'delete' invalid products, which could set us up for attacks or other nastiness later. \n",
    "\n",
    "The solution here is never to use assertions to validate data. In this example it'd be far safer to do the following:"
   ]
  },
  {
   "cell_type": "code",
   "execution_count": null,
   "metadata": {},
   "outputs": [],
   "source": [
    "def delete_product(prod_id, user):\n",
    "    if not user.is_admin():\n",
    "        raise AuthError(\"Sorry, you have to be an admin.\")\n",
    "    if not store.has_product(prod_id):\n",
    "        raise ValueError(\"We don't recognize that ID.\")\n",
    "    store.get_product(prod_id).delete()"
   ]
  },
  {
   "cell_type": "markdown",
   "metadata": {},
   "source": [
    "The second caveat involves the danger of writing assertions which simply never fail. An example hinges on the fact that non-empty tuples are truthy in Python, and therefore if a tuple is passed to an assert statement, it will always evaluate to true. \n",
    "\n",
    "This:\n",
    "\n",
    "`assert(1==2, 'This should fail')`\n",
    "\n",
    "Actually never fails. \n",
    "\n",
    "Another example:\n",
    "\n",
    "`\n",
    "assert(\n",
    "    counter == 10,\n",
    "    \"It should've counted all the items\"\n",
    ")\n",
    "`\n",
    "\n",
    "This looks harmless enough, but doesn't work for the exact same reason. For this reason it's good to use a 'code linter' (I don't know what this is yet), and to ensure that tests in a test suite actually do fail before moving on. "
   ]
  },
  {
   "cell_type": "markdown",
   "metadata": {},
   "source": [
    "#### Comma placement "
   ]
  },
  {
   "cell_type": "markdown",
   "metadata": {},
   "source": [
    "Another technique we can use to avoid headaches is to train ourselves to use commas at the end of every line of code. Lists are often defined like this:"
   ]
  },
  {
   "cell_type": "code",
   "execution_count": null,
   "metadata": {},
   "outputs": [],
   "source": [
    "names = ['Alice', 'Bob', 'Dilbert']"
   ]
  },
  {
   "cell_type": "markdown",
   "metadata": {},
   "source": [
    "The issue with this is that VCSs tend to be line-based, and do poorly when multiple changes are made to a single line. So if we spread this list out, we'll have an easier time tracking changes with something like Github down the road:"
   ]
  },
  {
   "cell_type": "code",
   "execution_count": null,
   "metadata": {},
   "outputs": [],
   "source": [
    "names = [\n",
    "        'Alice',\n",
    "        'Bob',\n",
    "        'Dilbert'\n",
    "]"
   ]
  },
  {
   "cell_type": "markdown",
   "metadata": {},
   "source": [
    "Better, but if we have to add an item at the end or delete the item at the end we'll have to remember to manually update the comma information on pain of being bitten by literal string concatenation:"
   ]
  },
  {
   "cell_type": "code",
   "execution_count": null,
   "metadata": {},
   "outputs": [],
   "source": [
    "names = [\n",
    "    'Alice',\n",
    "    'Bob',\n",
    "    'Dilbert'\n",
    "    'Jane'\n",
    "]"
   ]
  },
  {
   "cell_type": "code",
   "execution_count": null,
   "metadata": {},
   "outputs": [],
   "source": [
    "names"
   ]
  },
  {
   "cell_type": "markdown",
   "metadata": {},
   "source": [
    "What happened here is that Python automatically concatenated the last two items because I forgot to add a comma after 'Dilbert'. All of this goes away if we just add a comma after every line, even the last one. This isn't a problem for Python and will help avoid all the tribulations detailed above:"
   ]
  },
  {
   "cell_type": "code",
   "execution_count": null,
   "metadata": {},
   "outputs": [],
   "source": [
    "names = [\n",
    "    'Alice',\n",
    "    'Bob',\n",
    "    'Dilbert',\n",
    "    'Jane',\n",
    "]"
   ]
  },
  {
   "cell_type": "code",
   "execution_count": null,
   "metadata": {},
   "outputs": [],
   "source": [
    "names"
   ]
  },
  {
   "cell_type": "markdown",
   "metadata": {},
   "source": [
    "Note that this also works on dictionaries and sets. "
   ]
  },
  {
   "cell_type": "markdown",
   "metadata": {},
   "source": [
    "#### Context Managers and the with Statement "
   ]
  },
  {
   "cell_type": "markdown",
   "metadata": {},
   "source": [
    "The with statement 'helps simplify some common resource management patterns by abstracting their functionality and allowing them to be factored out and reused.' Here we have a pretty common operation, opening a file with an alias and then doing stuff with it:\n",
    "\n",
    "`\n",
    "with open('hello.txt', 'w') as f:\n",
    "    f.write('hello, world')\n",
    "`\n",
    "\n",
    "Opening files this way, with the `with` statement, is considered best practices because Python will automatically close it when execution leaves the with statement's context. Internally this code parses roughly to: \n",
    "\n",
    "`\n",
    "f = open('hello.txt', 'w')\n",
    "try:\n",
    "    f.write('hello, world')\n",
    "finally:\n",
    "    f.close()\n",
    "`\n",
    "\n",
    "The advantage here is that Python automatically closes the filename. If it didn't, an exception thrown during `.write()` might cause our program to leak a file descriptor. `with` has made resource management much easier because we don't have to write out the `try`/`finally` loop, and it's nearly impossible for us to forget to close files and otherwise release a resource when we're done with it. \n",
    "\n",
    "`with` is a kind of context manager which, more broadly, can be implemented in any class or object using `__enter__` and `__exit__`. The `open` context manager might look something like this:"
   ]
  },
  {
   "cell_type": "code",
   "execution_count": null,
   "metadata": {},
   "outputs": [],
   "source": [
    "class ManagedFile:\n",
    "    def __init__(self, name):\n",
    "        self.name = name\n",
    "    \n",
    "    def __enter__(self):\n",
    "        self.file = open(self.name, 'w')\n",
    "        return self.file\n",
    "    \n",
    "    def __exit__(self, exc_type, exc_val, exc_tb):\n",
    "        if self.file:\n",
    "            self.file.close()"
   ]
  },
  {
   "cell_type": "markdown",
   "metadata": {},
   "source": [
    "This means that our `ManagedFile` class will work with `with` now, in the manner to which we've grown accustomed:\n",
    "\n",
    "`\n",
    "with ManagedFile('hello.txt') as f:\n",
    "    f.write('hello, world')\n",
    "    f.write('Goodbye')\n",
    "`\n",
    "\n",
    "The way we've written the class means that Python will call `__enter__` when program execution enters the `with` statement's context and will call `__exit__` when it leaves, which frees up the resource.\n",
    "\n",
    "The Python standard library comes with a powerful set of context management tools, via the `contextlib` module. To take one example, we can utilize `contextmanage` as a decorator to create a 'factory function' powered by a generator that automatically supports the `with` statement. \n",
    "\n",
    "Behold:"
   ]
  },
  {
   "cell_type": "code",
   "execution_count": null,
   "metadata": {},
   "outputs": [],
   "source": [
    "from contextlib import contextmanager\n",
    "\n",
    "@contextmanager\n",
    "def managed_file(name):\n",
    "    try:\n",
    "        f = open(name, 'w')\n",
    "        yield f \n",
    "    finally: \n",
    "        f.close()"
   ]
  },
  {
   "cell_type": "markdown",
   "metadata": {},
   "source": [
    "We could then call it as we've done everything else:\n",
    "`\n",
    "with managed_file('hello.txt') as f:\n",
    "    f.write('hello, world')\n",
    "    f.write('bye now')\n",
    "`\n",
    "What exactly is happening here? This generator-based function essentially opens the resource (a file in this case), then yields it for the function caller's use, before going on to finish clean up and closing. \n",
    "\n",
    "It is basically equivalent to the class approach defined above. "
   ]
  },
  {
   "cell_type": "markdown",
   "metadata": {},
   "source": [
    "#### Context managers and APIs. "
   ]
  },
  {
   "cell_type": "markdown",
   "metadata": {},
   "source": [
    "Context managers can be used to create APIs. Observe:"
   ]
  },
  {
   "cell_type": "code",
   "execution_count": 19,
   "metadata": {},
   "outputs": [
    {
     "name": "stdout",
     "output_type": "stream",
     "text": [
      "  Hi!\n",
      "    Guten Tag!\n",
      "      Hola!\n",
      "  Yo\n"
     ]
    }
   ],
   "source": [
    "class Indenter:\n",
    "    def __init__(self):\n",
    "        self.level = 0\n",
    "    \n",
    "    def __enter__(self):\n",
    "        self.level += 1\n",
    "        return self\n",
    "    \n",
    "    def __exit__(self, exc_type, exc_val, exc_tb):\n",
    "        self.level -= 1\n",
    "        \n",
    "    def print(self, text):\n",
    "        print('  ' * self.level + text)\n",
    "\n",
    "with Indenter() as indent:\n",
    "    indent.print('Hi!')\n",
    "    with indent:\n",
    "        indent.print(\"Guten Tag!\")\n",
    "        with indent:\n",
    "            indent.print(\"Hola!\")\n",
    "    indent.print(\"Yo\")"
   ]
  },
  {
   "cell_type": "markdown",
   "metadata": {},
   "source": [
    "This is redolent of a domain-specific language (DSL) specifically for text indentation. "
   ]
  },
  {
   "cell_type": "markdown",
   "metadata": {},
   "source": [
    "#### Underscores, Dunders, and More "
   ]
  },
  {
   "cell_type": "markdown",
   "metadata": {},
   "source": [
    "There are a number of ways in which underscores are used in variable and method names, some of which are just conventions meant to signal some functionality to programmers, some of which are actually important to the interpreter. \n",
    "\n",
    "Here are the big 5:"
   ]
  },
  {
   "cell_type": "code",
   "execution_count": 20,
   "metadata": {},
   "outputs": [],
   "source": [
    "# _var          # single leading under\n",
    "# var_          # single trailing under\n",
    "# __var         # double leading under \n",
    "# __var__       # double surrounding under \n",
    "# _             # single under "
   ]
  },
  {
   "cell_type": "markdown",
   "metadata": {},
   "source": [
    "A single prefix like `_var` is meant to signal that a variable is for internal use. It's a convention only, the intepreter doesn't care. "
   ]
  },
  {
   "cell_type": "code",
   "execution_count": 26,
   "metadata": {},
   "outputs": [
    {
     "name": "stdout",
     "output_type": "stream",
     "text": [
      "11 , 23\n"
     ]
    }
   ],
   "source": [
    "class Test:\n",
    "    def __init__(self):\n",
    "        self.foo = 11\n",
    "        self._bar = 23\n",
    "        \n",
    "t = Test()\n",
    "print(t.foo,',', t._bar)"
   ]
  },
  {
   "cell_type": "markdown",
   "metadata": {},
   "source": [
    "As can be seen here, Python doesn't stop us from grabbing a `_var`, but by convention you aren't supposed to. \n",
    "\n",
    "The case is a bit more complicated when importing functions whose names containing leading underscores. Say we have a module we've defined:"
   ]
  },
  {
   "cell_type": "code",
   "execution_count": 27,
   "metadata": {},
   "outputs": [],
   "source": [
    "# my_module:\n",
    "\n",
    "def external_func():\n",
    "    return 23\n",
    "\n",
    "def _internal_func():\n",
    "    return 42"
   ]
  },
  {
   "cell_type": "markdown",
   "metadata": {},
   "source": [
    "If we then go on to use wildcard syntax to import my_module:\n",
    "\n",
    "`from my_module import *`\n",
    "\n",
    "The internal function won't be imported (though it will be if a standard `import my_module` is used instead; this is one reason why standard imports are superior to wildcard imports, because the latter make it unclear what's lined up in the namespace. PEP8 actually discourages wildcard imports). "
   ]
  },
  {
   "cell_type": "markdown",
   "metadata": {},
   "source": [
    "By convention a trailing underscore is mostly used to prevent conflicts with reserved keywords. So if you find yourself in a situation where the best name for a variable is `class`, you're going to have a bad time; that keyword is reserved. But you know what isn't reserved? `class_`."
   ]
  },
  {
   "cell_type": "markdown",
   "metadata": {},
   "source": [
    "The Python interpreter *does* care about preceding dunders, however, like `__var`. In what is usually called *name mangling*, the interpreter will actually *change* the names of dunder-named variables to prevent conflicts with subclasses which might have attributes whose names are similar. \n",
    "\n",
    "Observe:"
   ]
  },
  {
   "cell_type": "code",
   "execution_count": 30,
   "metadata": {},
   "outputs": [
    {
     "data": {
      "text/plain": [
       "['_Test2__baz',\n",
       " '__class__',\n",
       " '__delattr__',\n",
       " '__dict__',\n",
       " '__dir__',\n",
       " '__doc__',\n",
       " '__eq__',\n",
       " '__format__',\n",
       " '__ge__',\n",
       " '__getattribute__',\n",
       " '__gt__',\n",
       " '__hash__',\n",
       " '__init__',\n",
       " '__init_subclass__',\n",
       " '__le__',\n",
       " '__lt__',\n",
       " '__module__',\n",
       " '__ne__',\n",
       " '__new__',\n",
       " '__reduce__',\n",
       " '__reduce_ex__',\n",
       " '__repr__',\n",
       " '__setattr__',\n",
       " '__sizeof__',\n",
       " '__str__',\n",
       " '__subclasshook__',\n",
       " '__weakref__',\n",
       " '_bar',\n",
       " 'foo']"
      ]
     },
     "execution_count": 30,
     "metadata": {},
     "output_type": "execute_result"
    }
   ],
   "source": [
    "class Test2:\n",
    "    def __init__(self):\n",
    "        self.foo = 11\n",
    "        self._bar = 23\n",
    "        self.__baz = 42\n",
    "        \n",
    "# Let's instantiate\n",
    "t = Test2()\n",
    "\n",
    "# And use .dir() to figure out what attributes are available\n",
    "dir(t)"
   ]
  },
  {
   "cell_type": "markdown",
   "metadata": {},
   "source": [
    "Notice that in the attribute list `foo` and `_bar` are left unchanged, while `__baz` has been *name mangled* into `Test__baz`. Why do this? So that the name isn't overridden in subclasses. \n",
    "\n",
    "An example:"
   ]
  },
  {
   "cell_type": "code",
   "execution_count": 32,
   "metadata": {},
   "outputs": [
    {
     "data": {
      "text/plain": [
       "('overridden', 'overridden')"
      ]
     },
     "execution_count": 32,
     "metadata": {},
     "output_type": "execute_result"
    }
   ],
   "source": [
    "class ExtendedTest(Test2):\n",
    "    def __init__(self):\n",
    "        self.foo = 'overridden'\n",
    "        self._bar = 'overridden'\n",
    "        self.__baz = 'overridden'\n",
    "        \n",
    "t2 = ExtendedTest()\n",
    "\n",
    "t2.foo, t2._bar"
   ]
  },
  {
   "cell_type": "code",
   "execution_count": 33,
   "metadata": {},
   "outputs": [
    {
     "ename": "AttributeError",
     "evalue": "'ExtendedTest' object has no attribute '__baz'",
     "output_type": "error",
     "traceback": [
      "\u001b[0;31m---------------------------------------------------------------------------\u001b[0m",
      "\u001b[0;31mAttributeError\u001b[0m                            Traceback (most recent call last)",
      "\u001b[0;32m<ipython-input-33-61829a5ba87c>\u001b[0m in \u001b[0;36m<module>\u001b[0;34m()\u001b[0m\n\u001b[1;32m      1\u001b[0m \u001b[0;31m# However...\u001b[0m\u001b[0;34m\u001b[0m\u001b[0;34m\u001b[0m\u001b[0m\n\u001b[0;32m----> 2\u001b[0;31m \u001b[0mt2\u001b[0m\u001b[0;34m.\u001b[0m\u001b[0m__baz\u001b[0m\u001b[0;34m\u001b[0m\u001b[0m\n\u001b[0m",
      "\u001b[0;31mAttributeError\u001b[0m: 'ExtendedTest' object has no attribute '__baz'"
     ]
    }
   ],
   "source": [
    "# However...\n",
    "t2.__baz"
   ]
  },
  {
   "cell_type": "code",
   "execution_count": 34,
   "metadata": {},
   "outputs": [
    {
     "data": {
      "text/plain": [
       "['_ExtendedTest__baz',\n",
       " '__class__',\n",
       " '__delattr__',\n",
       " '__dict__',\n",
       " '__dir__',\n",
       " '__doc__',\n",
       " '__eq__',\n",
       " '__format__',\n",
       " '__ge__',\n",
       " '__getattribute__',\n",
       " '__gt__',\n",
       " '__hash__',\n",
       " '__init__',\n",
       " '__init_subclass__',\n",
       " '__le__',\n",
       " '__lt__',\n",
       " '__module__',\n",
       " '__ne__',\n",
       " '__new__',\n",
       " '__reduce__',\n",
       " '__reduce_ex__',\n",
       " '__repr__',\n",
       " '__setattr__',\n",
       " '__sizeof__',\n",
       " '__str__',\n",
       " '__subclasshook__',\n",
       " '__weakref__',\n",
       " '_bar',\n",
       " 'foo']"
      ]
     },
     "execution_count": 34,
     "metadata": {},
     "output_type": "execute_result"
    }
   ],
   "source": [
    "# Where is the __baz attribute? \n",
    "dir(t2)"
   ]
  },
  {
   "cell_type": "markdown",
   "metadata": {},
   "source": [
    "As before, Python has name mangled this variable because of its preceding double underscore. If we want to get it out, we have to use the new interpreter-given name:"
   ]
  },
  {
   "cell_type": "code",
   "execution_count": 36,
   "metadata": {},
   "outputs": [
    {
     "data": {
      "text/plain": [
       "'overridden'"
      ]
     },
     "execution_count": 36,
     "metadata": {},
     "output_type": "execute_result"
    }
   ],
   "source": [
    "t2._ExtendedTest__baz"
   ]
  },
  {
   "cell_type": "markdown",
   "metadata": {},
   "source": [
    "It is possible, however, to define a method within a class which *can* successfully get the relevant attribute out, even when said attribute can't be accessed directly."
   ]
  },
  {
   "cell_type": "code",
   "execution_count": 37,
   "metadata": {},
   "outputs": [],
   "source": [
    "class MangledTest:\n",
    "    def __init__(self):\n",
    "        self.__mangled = 'hello'\n",
    "        \n",
    "    def get_mangled(self):\n",
    "        return self.__mangled\n",
    "    \n",
    "mt = MangledTest()"
   ]
  },
  {
   "cell_type": "code",
   "execution_count": 38,
   "metadata": {},
   "outputs": [
    {
     "ename": "AttributeError",
     "evalue": "'MangledTest' object has no attribute '__mangled'",
     "output_type": "error",
     "traceback": [
      "\u001b[0;31m---------------------------------------------------------------------------\u001b[0m",
      "\u001b[0;31mAttributeError\u001b[0m                            Traceback (most recent call last)",
      "\u001b[0;32m<ipython-input-38-34b9f878e6fb>\u001b[0m in \u001b[0;36m<module>\u001b[0;34m()\u001b[0m\n\u001b[0;32m----> 1\u001b[0;31m \u001b[0mmt\u001b[0m\u001b[0;34m.\u001b[0m\u001b[0m__mangled\u001b[0m\u001b[0;34m\u001b[0m\u001b[0m\n\u001b[0m",
      "\u001b[0;31mAttributeError\u001b[0m: 'MangledTest' object has no attribute '__mangled'"
     ]
    }
   ],
   "source": [
    "mt.__mangled"
   ]
  },
  {
   "cell_type": "code",
   "execution_count": 39,
   "metadata": {},
   "outputs": [
    {
     "data": {
      "text/plain": [
       "'hello'"
      ]
     },
     "execution_count": 39,
     "metadata": {},
     "output_type": "execute_result"
    }
   ],
   "source": [
    "mt.get_mangled()"
   ]
  },
  {
   "cell_type": "markdown",
   "metadata": {},
   "source": [
    "And this applies to methods as well."
   ]
  },
  {
   "cell_type": "code",
   "execution_count": 40,
   "metadata": {},
   "outputs": [],
   "source": [
    "class MangledMethod:\n",
    "    def __method(self):\n",
    "        return 42\n",
    "    def call_it(self):\n",
    "        return self.__method()"
   ]
  },
  {
   "cell_type": "code",
   "execution_count": 41,
   "metadata": {},
   "outputs": [
    {
     "ename": "AttributeError",
     "evalue": "'MangledMethod' object has no attribute '__method'",
     "output_type": "error",
     "traceback": [
      "\u001b[0;31m---------------------------------------------------------------------------\u001b[0m",
      "\u001b[0;31mAttributeError\u001b[0m                            Traceback (most recent call last)",
      "\u001b[0;32m<ipython-input-41-8dfe66bcd8fd>\u001b[0m in \u001b[0;36m<module>\u001b[0;34m()\u001b[0m\n\u001b[1;32m      1\u001b[0m \u001b[0mmm\u001b[0m \u001b[0;34m=\u001b[0m \u001b[0mMangledMethod\u001b[0m\u001b[0;34m(\u001b[0m\u001b[0;34m)\u001b[0m\u001b[0;34m\u001b[0m\u001b[0m\n\u001b[0;32m----> 2\u001b[0;31m \u001b[0mmm\u001b[0m\u001b[0;34m.\u001b[0m\u001b[0m__method\u001b[0m\u001b[0;34m(\u001b[0m\u001b[0;34m)\u001b[0m\u001b[0;34m\u001b[0m\u001b[0m\n\u001b[0m",
      "\u001b[0;31mAttributeError\u001b[0m: 'MangledMethod' object has no attribute '__method'"
     ]
    }
   ],
   "source": [
    "mm = MangledMethod()\n",
    "mm.__method()"
   ]
  },
  {
   "cell_type": "code",
   "execution_count": 42,
   "metadata": {},
   "outputs": [
    {
     "data": {
      "text/plain": [
       "42"
      ]
     },
     "execution_count": 42,
     "metadata": {},
     "output_type": "execute_result"
    }
   ],
   "source": [
    "mm.call_it()"
   ]
  },
  {
   "cell_type": "markdown",
   "metadata": {},
   "source": [
    "Name mangling does not apply to attribute or method names with both leading and trailing double underscores. These so-called *magic methods* are reserved for special use cases in Python. \n",
    "\n",
    "The single underscore _ is a naming convention generally used to denote a temporary value about which no one really cares. We might use it in tuple unpacking when we're discarding some of the unpacked values. "
   ]
  },
  {
   "cell_type": "code",
   "execution_count": 43,
   "metadata": {},
   "outputs": [],
   "source": [
    "car = ('red', 'auto', 12, 2800)\n",
    "color, _, _, mileage = car"
   ]
  },
  {
   "cell_type": "code",
   "execution_count": 47,
   "metadata": {},
   "outputs": [
    {
     "data": {
      "text/plain": [
       "('red', 2800)"
      ]
     },
     "execution_count": 47,
     "metadata": {},
     "output_type": "execute_result"
    }
   ],
   "source": [
    "color, mileage"
   ]
  },
  {
   "cell_type": "markdown",
   "metadata": {},
   "source": [
    "#### String Formatting"
   ]
  },
  {
   "cell_type": "code",
   "execution_count": 51,
   "metadata": {},
   "outputs": [
    {
     "name": "stdout",
     "output_type": "stream",
     "text": [
      "Hey Bob, I'm afraid there is a 0xbadc0ffee error\n"
     ]
    }
   ],
   "source": [
    "# There are four major ways to do string formatting. The first is called the 'old style'\n",
    "\n",
    "name = 'Bob'\n",
    "errno = 50159747054\n",
    "\n",
    "# With Python's % operator we can do quick positional string formatting.\n",
    "\n",
    "print(\"Hey %s, I'm afraid there is a 0x%x error\" % (name, errno))"
   ]
  },
  {
   "cell_type": "markdown",
   "metadata": {},
   "source": [
    "The % operator takes but one argument, which can be an n-ary tuple, or we can accomplish the same thing with a dictionary mapping."
   ]
  },
  {
   "cell_type": "code",
   "execution_count": 52,
   "metadata": {},
   "outputs": [
    {
     "name": "stdout",
     "output_type": "stream",
     "text": [
      "Hey Bob, there is a 0xbadc0ffee error\n"
     ]
    }
   ],
   "source": [
    "print(\"Hey %(name)s, there is a 0x%(errno)x error\" % {'name': name, 'errno': errno})"
   ]
  },
  {
   "cell_type": "markdown",
   "metadata": {},
   "source": [
    "New style string formatting is more regular and requires calling a special .format() method on a string object. We can do the same things as before, it just necessitates a few syntactical changes."
   ]
  },
  {
   "cell_type": "code",
   "execution_count": 54,
   "metadata": {},
   "outputs": [
    {
     "name": "stdout",
     "output_type": "stream",
     "text": [
      "Hello Bob, there's a 0xbadc0ffee error!\n"
     ]
    }
   ],
   "source": [
    "print(\"Hello {name}, there's a 0x{errno:x} error!\".format(name=name, errno=errno))"
   ]
  },
  {
   "cell_type": "markdown",
   "metadata": {},
   "source": [
    "Starting in Python 3.6 we can now make use of formatted string literals to do literal string interpolation directly in the string itself. "
   ]
  },
  {
   "cell_type": "code",
   "execution_count": 55,
   "metadata": {},
   "outputs": [
    {
     "name": "stdout",
     "output_type": "stream",
     "text": [
      "Five plus ten is 15 and not 30\n"
     ]
    }
   ],
   "source": [
    "a,b = 5,10\n",
    "print(f'Five plus ten is {a + b} and not {2 * (a + b)}')"
   ]
  },
  {
   "cell_type": "markdown",
   "metadata": {},
   "source": [
    "This becomes even more powerful when we put it into a function. "
   ]
  },
  {
   "cell_type": "code",
   "execution_count": 58,
   "metadata": {},
   "outputs": [
    {
     "data": {
      "text/plain": [
       "\"Hello bob, how's it feeling\""
      ]
     },
     "execution_count": 58,
     "metadata": {},
     "output_type": "execute_result"
    }
   ],
   "source": [
    "def greet(name, question):\n",
    "    return f\"Hello {name}, how's it {question}\"\n",
    "\n",
    "greet('bob','feeling')"
   ]
  },
  {
   "cell_type": "markdown",
   "metadata": {},
   "source": [
    "A final method relies on the Template function from Python's `string` module. Though it isn't nearly as flexible as what's covered above, it might serve in certain straightforward cases. \n",
    "\n",
    "Template strings aren't a core language feature, and they can't do things like take a format specifier which will allow us to convert our integer error into a hexadecimal string. We have to do that manually. \n",
    "\n",
    "Given these shortcomings, when might we use such a technique? One use case is in fetching strings from users. Here, the greater simplicity of Template strings makes them a safer option. "
   ]
  },
  {
   "cell_type": "code",
   "execution_count": 60,
   "metadata": {},
   "outputs": [
    {
     "data": {
      "text/plain": [
       "'Hey, Bob'"
      ]
     },
     "execution_count": 60,
     "metadata": {},
     "output_type": "execute_result"
    }
   ],
   "source": [
    "from string import Template\n",
    "t = Template('Hey, $name')\n",
    "t.substitute(name=name)"
   ]
  },
  {
   "cell_type": "markdown",
   "metadata": {},
   "source": [
    "It is not impossible for there to arise situations in which a user can access secret keys by passing in a format string"
   ]
  },
  {
   "cell_type": "code",
   "execution_count": 62,
   "metadata": {},
   "outputs": [
    {
     "data": {
      "text/plain": [
       "'You should not be here'"
      ]
     },
     "execution_count": 62,
     "metadata": {},
     "output_type": "execute_result"
    }
   ],
   "source": [
    "SECRET = 'You should not be here'\n",
    "\n",
    "class Error:\n",
    "    def __init__(self):\n",
    "        pass\n",
    "\n",
    "err = Error()\n",
    "user_input = '{error.__init__.__globals__[SECRET]}'\n",
    "\n",
    "user_input.format(error=err)"
   ]
  },
  {
   "cell_type": "markdown",
   "metadata": {},
   "source": [
    "Template strings close down this attack vector. "
   ]
  },
  {
   "cell_type": "markdown",
   "metadata": {},
   "source": [
    "Given this embarrassment of riches, how should we approach string formatting? The author says that if our code deals in user-supplied strings, we should use Template strings, if we're in Python 3.6+ we should use literal string interpolation, otherwise use the 'new style' (with `.format()`). "
   ]
  },
  {
   "cell_type": "markdown",
   "metadata": {},
   "source": [
    "### Effective Functions"
   ]
  },
  {
   "cell_type": "markdown",
   "metadata": {},
   "source": [
    "Python functions are as versatile as they are powerful. They can be stored in variables and data structures, passed as arguments to other functions, and even returned as values in functions. The examples throughout the chapter utilize this basic function:"
   ]
  },
  {
   "cell_type": "code",
   "execution_count": 63,
   "metadata": {},
   "outputs": [
    {
     "name": "stdout",
     "output_type": "stream",
     "text": [
      "HELLO!\n"
     ]
    }
   ],
   "source": [
    "def yell(text):\n",
    "    return text.upper() + \"!\"\n",
    "\n",
    "print(yell(\"Hello\"))"
   ]
  },
  {
   "cell_type": "markdown",
   "metadata": {},
   "source": [
    "Python is object-oriented because everything in it is an object. Strings, lists, variables, modules, and functions are all objects. \n",
    "\n",
    "This means that the function `yell` can be assigned to a variable, as can any other object.  "
   ]
  },
  {
   "cell_type": "code",
   "execution_count": 66,
   "metadata": {},
   "outputs": [
    {
     "data": {
      "text/plain": [
       "'WOOF!'"
      ]
     },
     "execution_count": 66,
     "metadata": {},
     "output_type": "execute_result"
    }
   ],
   "source": [
    "bark = yell # Note that we're not calling it. If we do that throws an error.\n",
    "bark('woof')"
   ]
  },
  {
   "cell_type": "markdown",
   "metadata": {},
   "source": [
    "A function is not it's name. In the following we delete the function name `yell` but then still call it because we've pointed another name at the underlying functionality."
   ]
  },
  {
   "cell_type": "code",
   "execution_count": 68,
   "metadata": {},
   "outputs": [
    {
     "ename": "NameError",
     "evalue": "name 'yell' is not defined",
     "output_type": "error",
     "traceback": [
      "\u001b[0;31m---------------------------------------------------------------------------\u001b[0m",
      "\u001b[0;31mNameError\u001b[0m                                 Traceback (most recent call last)",
      "\u001b[0;32m<ipython-input-68-54d67b298a71>\u001b[0m in \u001b[0;36m<module>\u001b[0;34m()\u001b[0m\n\u001b[0;32m----> 1\u001b[0;31m \u001b[0;32mdel\u001b[0m \u001b[0myell\u001b[0m\u001b[0;34m\u001b[0m\u001b[0m\n\u001b[0m\u001b[1;32m      2\u001b[0m \u001b[0myell\u001b[0m\u001b[0;34m(\u001b[0m\u001b[0;34m'hello'\u001b[0m\u001b[0;34m)\u001b[0m\u001b[0;34m\u001b[0m\u001b[0m\n",
      "\u001b[0;31mNameError\u001b[0m: name 'yell' is not defined"
     ]
    }
   ],
   "source": [
    "del yell\n",
    "yell('hello')"
   ]
  },
  {
   "cell_type": "code",
   "execution_count": 69,
   "metadata": {},
   "outputs": [
    {
     "data": {
      "text/plain": [
       "'HELLO!'"
      ]
     },
     "execution_count": 69,
     "metadata": {},
     "output_type": "execute_result"
    }
   ],
   "source": [
    "bark('hello')"
   ]
  },
  {
   "cell_type": "code",
   "execution_count": 70,
   "metadata": {},
   "outputs": [
    {
     "data": {
      "text/plain": [
       "'yell'"
      ]
     },
     "execution_count": 70,
     "metadata": {},
     "output_type": "execute_result"
    }
   ],
   "source": [
    "# But, Python automatically attaches a string identifier to every function as an aid in \n",
    "# debugging. It can be accessed as the .__name__ attribute. \n",
    "\n",
    "bark.__name__"
   ]
  },
  {
   "cell_type": "markdown",
   "metadata": {},
   "source": [
    "Functions can be stored inside data structures like lists, but be sure not to call them!"
   ]
  },
  {
   "cell_type": "code",
   "execution_count": 72,
   "metadata": {},
   "outputs": [
    {
     "name": "stdout",
     "output_type": "stream",
     "text": [
      "<function yell at 0x10707d1e0> HELLO!\n",
      "<method 'capitalize' of 'str' objects> Hello\n",
      "<method 'lower' of 'str' objects> hello\n"
     ]
    }
   ],
   "source": [
    "funcs = [bark, str.capitalize, str.lower]\n",
    "\n",
    "# With this in place we can call the functions as we would in any other context\n",
    "\n",
    "for f in funcs:\n",
    "    print(f, f('Hello'))"
   ]
  },
  {
   "cell_type": "code",
   "execution_count": 74,
   "metadata": {},
   "outputs": [
    {
     "data": {
      "text/plain": [
       "'HEY!'"
      ]
     },
     "execution_count": 74,
     "metadata": {},
     "output_type": "execute_result"
    }
   ],
   "source": [
    "# This list allows us to use 'disembodied functions', which involve looking up and then calling\n",
    "# a function. \n",
    "\n",
    "funcs[0]('hey')"
   ]
  },
  {
   "cell_type": "code",
   "execution_count": 77,
   "metadata": {},
   "outputs": [
    {
     "name": "stdout",
     "output_type": "stream",
     "text": [
      "HI!\n"
     ]
    }
   ],
   "source": [
    "# And because functions are objects they can be passed to other functions.\n",
    "\n",
    "def greet(func, string):\n",
    "    greeting = func(string)\n",
    "    return greeting\n",
    "\n",
    "print(greet(bark, 'Hi'))"
   ]
  },
  {
   "cell_type": "markdown",
   "metadata": {},
   "source": [
    "Passing functions to other functions gives us the option of focusing on behavior. The `greet` function above can do all kinds of things depending on the function which we pass to it. \n",
    "\n",
    "This is an example of a higher-order function, the classic example of which is the `.map()` function. `.map()` takes a function and an iterable and applies the function to each iterable. "
   ]
  },
  {
   "cell_type": "code",
   "execution_count": 78,
   "metadata": {},
   "outputs": [
    {
     "data": {
      "text/plain": [
       "['HELLO!', 'HEY!', 'HI!']"
      ]
     },
     "execution_count": 78,
     "metadata": {},
     "output_type": "execute_result"
    }
   ],
   "source": [
    "list(map(bark, ['hello', 'hey', 'hi']))"
   ]
  },
  {
   "cell_type": "markdown",
   "metadata": {},
   "source": [
    "We can also define *nested* or *inner* functions inside other functions. This means that each time the outer function is called it defines the inner function, which has no existence beyond the outer functione"
   ]
  },
  {
   "cell_type": "code",
   "execution_count": 79,
   "metadata": {},
   "outputs": [
    {
     "name": "stdout",
     "output_type": "stream",
     "text": [
      "hello world...\n"
     ]
    }
   ],
   "source": [
    "def speak(text):\n",
    "    def whisper(t):\n",
    "        return t.lower() + '...'\n",
    "    return whisper(text)\n",
    "\n",
    "print(speak('HELLO WORLD'))"
   ]
  },
  {
   "cell_type": "markdown",
   "metadata": {},
   "source": [
    "This leaves us unable to access the inner function, however, because it is resurrected each time the outer function calls. Should we truly desire in our hearts to access this function, however, we could always return it to the caller. The returned function isn't actually called, mind you, it is just returned. "
   ]
  },
  {
   "cell_type": "code",
   "execution_count": 88,
   "metadata": {},
   "outputs": [
    {
     "name": "stdout",
     "output_type": "stream",
     "text": [
      "HELLO!\n"
     ]
    }
   ],
   "source": [
    "def get_speak(volume):\n",
    "    def whisper(text):\n",
    "        return text.lower() + '...'\n",
    "    def yell(text):\n",
    "        return text.upper() + '!'\n",
    "    if volume > .5:\n",
    "        return yell\n",
    "    else:\n",
    "        return whisper\n",
    "    \n",
    "print(get_speak(.8)('hello'))"
   ]
  },
  {
   "cell_type": "markdown",
   "metadata": {},
   "source": [
    "What this ultimately means is that Python's adherence to OO principles means that we can abstract away the function syntax and semantics and instead traffic in *behaviors*, both as inputs and outputs. "
   ]
  },
  {
   "cell_type": "markdown",
   "metadata": {},
   "source": [
    "#### Functions can capture local state  "
   ]
  },
  {
   "cell_type": "markdown",
   "metadata": {},
   "source": [
    "In addition to the fact that functions can take and return other functions, inner functions can capture and carry some of their parent function's state. In the above `get_speak` function the inner functions took a parameter. If we re-write them so that they don't, we can have inner functions called `lexical closures` which remember the values passed to the parent function:"
   ]
  },
  {
   "cell_type": "code",
   "execution_count": 82,
   "metadata": {},
   "outputs": [
    {
     "data": {
      "text/plain": [
       "'HELLO!'"
      ]
     },
     "execution_count": 82,
     "metadata": {},
     "output_type": "execute_result"
    }
   ],
   "source": [
    "def get_speak(text, volume):\n",
    "    def whisper():\n",
    "        return text.lower() + '...'\n",
    "    def yell():\n",
    "        return text.upper() + '!'\n",
    "    if volume < .5:\n",
    "        return whisper\n",
    "    else:\n",
    "        return yell\n",
    "\n",
    "get_speak('hello', .7)()"
   ]
  },
  {
   "cell_type": "markdown",
   "metadata": {},
   "source": [
    "Here is the same idea implemented in a so-called *factory function*"
   ]
  },
  {
   "cell_type": "code",
   "execution_count": 90,
   "metadata": {},
   "outputs": [
    {
     "data": {
      "text/plain": [
       "10"
      ]
     },
     "execution_count": 90,
     "metadata": {},
     "output_type": "execute_result"
    }
   ],
   "source": [
    "def make_adder(n):\n",
    "    def add(x):\n",
    "        return x + n\n",
    "    return add \n",
    "\n",
    "plus_3 = make_adder(3)\n",
    "plus_5 = make_adder(5)\n",
    "\n",
    "plus_5(5)"
   ]
  },
  {
   "cell_type": "markdown",
   "metadata": {},
   "source": [
    "#### Objects Can Behave Like Functions "
   ]
  },
  {
   "cell_type": "markdown",
   "metadata": {},
   "source": [
    "All functions are objects but not all objects are functions. However, it is possible to use the `__call__` dunder method to make objects which behave like functions"
   ]
  },
  {
   "cell_type": "code",
   "execution_count": 92,
   "metadata": {},
   "outputs": [
    {
     "name": "stdout",
     "output_type": "stream",
     "text": [
      "15\n"
     ]
    }
   ],
   "source": [
    "class Adder:\n",
    "    def __init__(self, n):\n",
    "        self.n = n\n",
    "    \n",
    "    def __call__(self, x):\n",
    "        return self.n + x\n",
    "    \n",
    "plus_10 = Adder(10)\n",
    "print(plus_10(5))"
   ]
  },
  {
   "cell_type": "markdown",
   "metadata": {},
   "source": [
    "What's actually happening here is that when the object instance in `plus_10` is 'called' like a function the interpreter attempts to execute the `__call__` method. If we'd like to verify whether or not a given object is callable we can use the built-in `callable` method, which tells us whether or not whatever we pass in appears to be callable. "
   ]
  },
  {
   "cell_type": "code",
   "execution_count": 94,
   "metadata": {},
   "outputs": [
    {
     "name": "stdout",
     "output_type": "stream",
     "text": [
      "False\n"
     ]
    }
   ],
   "source": [
    "    print(callable('probably not callable'))"
   ]
  },
  {
   "cell_type": "markdown",
   "metadata": {},
   "source": [
    "#### Lambdas are single-expression functions "
   ]
  },
  {
   "cell_type": "markdown",
   "metadata": {},
   "source": [
    "Lambda is python's shortcut way of defining small, anonymous functions, like this one:"
   ]
  },
  {
   "cell_type": "code",
   "execution_count": 1,
   "metadata": {},
   "outputs": [
    {
     "data": {
      "text/plain": [
       "5"
      ]
     },
     "execution_count": 1,
     "metadata": {},
     "output_type": "execute_result"
    }
   ],
   "source": [
    "add = lambda x, y: x + y\n",
    "add(2,3)"
   ]
  },
  {
   "cell_type": "markdown",
   "metadata": {},
   "source": [
    "This actually let's us define and immediately call functions inline with *function expressions*."
   ]
  },
  {
   "cell_type": "code",
   "execution_count": 2,
   "metadata": {},
   "outputs": [
    {
     "data": {
      "text/plain": [
       "15"
      ]
     },
     "execution_count": 2,
     "metadata": {},
     "output_type": "execute_result"
    }
   ],
   "source": [
    "(lambda x, y: x * y)(3, 5)"
   ]
  },
  {
   "cell_type": "markdown",
   "metadata": {},
   "source": [
    "Because lambdas are restricted to a single expression they can't use statements like `return`, though because lambda automatically execute and return values there is a kind of implicit return statement. \n",
    "\n",
    "Lambdas can be used anywhere a function object is required, but a common use case is for sorting iterables by some alternate key:"
   ]
  },
  {
   "cell_type": "code",
   "execution_count": 3,
   "metadata": {},
   "outputs": [
    {
     "data": {
      "text/plain": [
       "[(4, 'a'), (2, 'b'), (3, 'c'), (1, 'd')]"
      ]
     },
     "execution_count": 3,
     "metadata": {},
     "output_type": "execute_result"
    }
   ],
   "source": [
    "tuples = [(1, 'd'), (2, 'b'), (4, 'a'), (3, 'c')]\n",
    "sorted(tuples, key=lambda x: x[1])"
   ]
  },
  {
   "cell_type": "code",
   "execution_count": 8,
   "metadata": {},
   "outputs": [
    {
     "data": {
      "text/plain": [
       "[0, -1, 1, -2, 2, -3, 3, -4, 4, -5, 5]"
      ]
     },
     "execution_count": 8,
     "metadata": {},
     "output_type": "execute_result"
    }
   ],
   "source": [
    "sorted(range(-5,6), key=lambda x: x**2)"
   ]
  },
  {
   "cell_type": "markdown",
   "metadata": {},
   "source": [
    "#### The Power of Decorators "
   ]
  },
  {
   "cell_type": "markdown",
   "metadata": {},
   "source": [
    "Decorators allow for us to non-permanently change the behavior of a callable like a class or function. Common use cases are logging behavior, timing, caching, enforcing authentication. To understand decorators we need to review two facts about first-class functions in Python: first, functions can be assigned to variables and returned from other functions; second, they can be defined inside of other functions. \n",
    "\n",
    "A decorator is a callable that takes another callable as input and returns a callable. A null decorator might look like this:"
   ]
  },
  {
   "cell_type": "code",
   "execution_count": 9,
   "metadata": {},
   "outputs": [],
   "source": [
    "def null_decorator(func):\n",
    "    return func"
   ]
  },
  {
   "cell_type": "markdown",
   "metadata": {},
   "source": [
    "Anytime we wanted to use this decorator now we'd append `@null_decorator` just above the function we want to decorate. \n",
    "\n",
    "Here is a more complicated decorator:"
   ]
  },
  {
   "cell_type": "code",
   "execution_count": 22,
   "metadata": {},
   "outputs": [
    {
     "data": {
      "text/plain": [
       "'HELLO!'"
      ]
     },
     "execution_count": 22,
     "metadata": {},
     "output_type": "execute_result"
    }
   ],
   "source": [
    "def uppercase(func):\n",
    "    def wrapper():\n",
    "        original_result = func()\n",
    "        modified_result = original_result.upper()\n",
    "        return modified_result\n",
    "    return wrapper\n",
    "\n",
    "@uppercase\n",
    "def greet():\n",
    "    return 'Hello!'\n",
    "\n",
    "greet()"
   ]
  },
  {
   "cell_type": "markdown",
   "metadata": {},
   "source": [
    "While our `null_decorator` simply returned the original function, the more complicated `uppercase` must wrap input functions in a closure in order to influence the future behavior of the input function. Behavior is modified through this wrapper so that the original function isn't modified."
   ]
  },
  {
   "cell_type": "markdown",
   "metadata": {},
   "source": [
    "#### Applying Multiple Decorators to a Function "
   ]
  },
  {
   "cell_type": "code",
   "execution_count": 24,
   "metadata": {},
   "outputs": [
    {
     "data": {
      "text/plain": [
       "'<strong><em>Hello</em></strong>'"
      ]
     },
     "execution_count": 24,
     "metadata": {},
     "output_type": "execute_result"
    }
   ],
   "source": [
    "def strong(func):\n",
    "    def wrapper():\n",
    "        return '<strong>' + func() + '</strong>'\n",
    "    return wrapper \n",
    "\n",
    "def emphasis(func):\n",
    "    def wrapper():\n",
    "        return '<em>' + func() + '</em>'\n",
    "    return wrapper \n",
    "\n",
    "# The can both be applied simultaneously to greet.\n",
    "\n",
    "@strong\n",
    "@emphasis\n",
    "\n",
    "def greet():\n",
    "    return 'Hello'\n",
    "\n",
    "greet()"
   ]
  },
  {
   "cell_type": "markdown",
   "metadata": {},
   "source": [
    "Stacked decorators are applied from the bottom to the top, and the above example is roughly equivalent to `decorated_greet = strong(emphasis(greet))`.\n",
    "\n",
    "So far, though, we haven't decorated functions which accept arguments. These can be tricky, and they're why we use `*args` and `**kwargs`. For example:"
   ]
  },
  {
   "cell_type": "code",
   "execution_count": 25,
   "metadata": {},
   "outputs": [],
   "source": [
    "def proxy(func):\n",
    "    def wrapper(*args, **kwargs):\n",
    "        return func(*args, **kwargs)\n",
    "    return wrapper "
   ]
  },
  {
   "cell_type": "markdown",
   "metadata": {},
   "source": [
    "There are two things happening here. First, the closure `wrapper` function is using `*` and `**` to collect arbitrarily many arguments passed to `func`, then it forwards them to the input function using the `*` and `**` argument unpacking operations. "
   ]
  },
  {
   "cell_type": "code",
   "execution_count": 29,
   "metadata": {},
   "outputs": [
    {
     "name": "stdout",
     "output_type": "stream",
     "text": [
      "TRACE: calling say() with ('Jane', 'Hello World'), {}\n",
      "TRACE: say returned 'Jane: Hello World'\n"
     ]
    },
    {
     "data": {
      "text/plain": [
       "'Jane: Hello World'"
      ]
     },
     "execution_count": 29,
     "metadata": {},
     "output_type": "execute_result"
    }
   ],
   "source": [
    "def trace(func):\n",
    "    def wrapper(*args, **kwargs):\n",
    "        print(f'TRACE: calling {func.__name__}() '\n",
    "              f'with {args}, {kwargs}')\n",
    "        \n",
    "        original_result = func(*args, **kwargs)\n",
    "        \n",
    "        print(f'TRACE: {func.__name__} '\n",
    "              f'returned {original_result!r}')\n",
    "        \n",
    "        return original_result\n",
    "    return wrapper \n",
    "\n",
    "@trace\n",
    "def say(name, line):\n",
    "    return f'{name}: {line}'\n",
    "\n",
    "say('Jane', 'Hello World')"
   ]
  },
  {
   "cell_type": "markdown",
   "metadata": {},
   "source": [
    "One downside of this approach is that some of a function's metadata is masked by the wrapper's metadata once it has been decorated, with debugging consequently becoming harder. A workaround is to import `functools.wraps` and use it as a decorator inside the decorator function, where it copies over the input function's metadata and keeps that available. "
   ]
  },
  {
   "cell_type": "code",
   "execution_count": 30,
   "metadata": {},
   "outputs": [],
   "source": [
    "import functools\n",
    "\n",
    "def uppercase(func):\n",
    "    @functools.wraps(func)\n",
    "    def wrapper():\n",
    "        return func().upper()\n",
    "    return wrapper "
   ]
  },
  {
   "cell_type": "markdown",
   "metadata": {},
   "source": [
    "#### Fun With `*args` and `**kwargs` "
   ]
  },
  {
   "cell_type": "markdown",
   "metadata": {},
   "source": [
    "`*args` and `**kwargs` allow for the creation of more flexible APIs for modules and classes by allowing optional arguments in function definitions. Because `*args` begins with an `*`, it collects any optional arguments passed to it into a tuple. Similarly because `**kwargs` begins with an `**` it will collect keyword arguments in a dictionary. "
   ]
  },
  {
   "cell_type": "code",
   "execution_count": 31,
   "metadata": {},
   "outputs": [],
   "source": [
    "def foo(required, *args, **kwargs):\n",
    "    print(required)\n",
    "    if args:\n",
    "        print(args)\n",
    "    if kwargs:\n",
    "        print(kwargs)"
   ]
  },
  {
   "cell_type": "code",
   "execution_count": 32,
   "metadata": {},
   "outputs": [
    {
     "ename": "TypeError",
     "evalue": "foo() missing 1 required positional argument: 'required'",
     "output_type": "error",
     "traceback": [
      "\u001b[0;31m---------------------------------------------------------------------------\u001b[0m",
      "\u001b[0;31mTypeError\u001b[0m                                 Traceback (most recent call last)",
      "\u001b[0;32m<ipython-input-32-d230e9ff235a>\u001b[0m in \u001b[0;36m<module>\u001b[0;34m()\u001b[0m\n\u001b[0;32m----> 1\u001b[0;31m \u001b[0mfoo\u001b[0m\u001b[0;34m(\u001b[0m\u001b[0;34m)\u001b[0m \u001b[0;31m# --> throws an error because we haven't passed in the correct argument.\u001b[0m\u001b[0;34m\u001b[0m\u001b[0;34m\u001b[0m\u001b[0m\n\u001b[0m",
      "\u001b[0;31mTypeError\u001b[0m: foo() missing 1 required positional argument: 'required'"
     ]
    }
   ],
   "source": [
    "foo() # --> throws an error because we haven't passed in the correct argument. "
   ]
  },
  {
   "cell_type": "code",
   "execution_count": 33,
   "metadata": {},
   "outputs": [
    {
     "name": "stdout",
     "output_type": "stream",
     "text": [
      "hello\n"
     ]
    }
   ],
   "source": [
    "foo('hello')"
   ]
  },
  {
   "cell_type": "code",
   "execution_count": 34,
   "metadata": {},
   "outputs": [
    {
     "name": "stdout",
     "output_type": "stream",
     "text": [
      "hello\n",
      "(1, 2, 3)\n"
     ]
    }
   ],
   "source": [
    "foo('hello', 1, 2, 3)"
   ]
  },
  {
   "cell_type": "code",
   "execution_count": 35,
   "metadata": {},
   "outputs": [
    {
     "name": "stdout",
     "output_type": "stream",
     "text": [
      "hello\n",
      "(1, 2, 3)\n",
      "{'key': 'value', 'key2': 999}\n"
     ]
    }
   ],
   "source": [
    "foo('hello', 1,2,3, key='value', key2 = 999)"
   ]
  },
  {
   "cell_type": "markdown",
   "metadata": {},
   "source": [
    "By making use of the `*` and `**` operators we can actually forward optional/keyword arguments to functions and modify the arguments as we go along. \n",
    "\n",
    "Observe:"
   ]
  },
  {
   "cell_type": "code",
   "execution_count": 36,
   "metadata": {},
   "outputs": [],
   "source": [
    "def foo(x, *args, **kwargs):\n",
    "    kwargs['name'] = 'Alice'\n",
    "    new_args = args + ('extra', )\n",
    "    bar(x, *new_args, **kwargs)"
   ]
  },
  {
   "cell_type": "markdown",
   "metadata": {},
   "source": [
    "This has applications in writing wrappers and dealing with subclasses."
   ]
  },
  {
   "cell_type": "code",
   "execution_count": 38,
   "metadata": {},
   "outputs": [
    {
     "data": {
      "text/plain": [
       "'blue'"
      ]
     },
     "execution_count": 38,
     "metadata": {},
     "output_type": "execute_result"
    }
   ],
   "source": [
    "class Car:\n",
    "    def __init__(self, color, mileage):\n",
    "        self.color = color\n",
    "        self.mileage = mileage\n",
    "\n",
    "class AlwaysBlueCar(Car):\n",
    "    def __init__(self, *args, **kwargs):\n",
    "        super().__init__(*args, **kwargs)\n",
    "        self.color = 'blue'\n",
    "\n",
    "AlwaysBlueCar('green', 413).color"
   ]
  },
  {
   "cell_type": "markdown",
   "metadata": {},
   "source": [
    "The way these are written, the child class `AlwaysBlueCar` inherits its arguments from its parent class and then overrides one of its internal attributes. In theory this child class might still perform just fine if its parent class changed. Unfortunately, we don't know what arguments it wants without looking up the definition of its parent class. \n",
    "\n",
    "`*args` and `**kwargs` are also useful in writing functions like decorators, where we'll frequently be in a situation in which we want our decorated function to be able to take arbitrarily many input arguments. "
   ]
  },
  {
   "cell_type": "code",
   "execution_count": 41,
   "metadata": {},
   "outputs": [
    {
     "name": "stdout",
     "output_type": "stream",
     "text": [
      "<function greet at 0x110e18048> ('sup', 'Joe') {}\n",
      "sup, Joe\n"
     ]
    }
   ],
   "source": [
    "def trace(f):\n",
    "    @functools.wraps(f)\n",
    "    def decorated_function(*args, **kwargs):\n",
    "        print(f, args, kwargs)\n",
    "        result = f(*args, **kwargs) # passing those optionals in to the input function \n",
    "        print(result)\n",
    "    return decorated_function\n",
    "\n",
    "@trace\n",
    "def greet(greeting, name):\n",
    "    return f'{greeting}, {name}'\n",
    "\n",
    "greet('sup', 'Joe')"
   ]
  },
  {
   "cell_type": "markdown",
   "metadata": {},
   "source": [
    "### Function Argument Unpacking "
   ]
  },
  {
   "cell_type": "markdown",
   "metadata": {},
   "source": [
    "Python let's us unpack function arguments from sequences and dictionaries with the `*` and `**` syntax. Let's define a simple function to use as an example "
   ]
  },
  {
   "cell_type": "code",
   "execution_count": 44,
   "metadata": {},
   "outputs": [
    {
     "name": "stdout",
     "output_type": "stream",
     "text": [
      "<1, 2, 3>\n"
     ]
    }
   ],
   "source": [
    "def print_vector(x, y, z):\n",
    "    print('<%s, %s, %s>' % (x,y,z))\n",
    "\n",
    "print_vector(1,2,3)"
   ]
  },
  {
   "cell_type": "markdown",
   "metadata": {},
   "source": [
    "Unfortunately we're constrained a bit here by which data structure we use to represent our vector. If we want to store variables in a tuple then we'll be forced to use indexing to get them out of the tuple when it comes time to pass in arguments to `print_vector`"
   ]
  },
  {
   "cell_type": "code",
   "execution_count": 46,
   "metadata": {},
   "outputs": [
    {
     "name": "stdout",
     "output_type": "stream",
     "text": [
      "<1, 0, 1>\n"
     ]
    }
   ],
   "source": [
    "tuple_vec = (1,0,1)\n",
    "print_vector(tuple_vec[0], tuple_vec[1], tuple_vec[2])"
   ]
  },
  {
   "cell_type": "markdown",
   "metadata": {},
   "source": [
    "Who has time for this? Luckily for us we can leverage the magic of tuple unpacking "
   ]
  },
  {
   "cell_type": "code",
   "execution_count": 47,
   "metadata": {},
   "outputs": [
    {
     "name": "stdout",
     "output_type": "stream",
     "text": [
      "<1, 0, 1>\n"
     ]
    }
   ],
   "source": [
    "print_vector(*tuple_vec)"
   ]
  },
  {
   "cell_type": "markdown",
   "metadata": {},
   "source": [
    "It even works for generators"
   ]
  },
  {
   "cell_type": "code",
   "execution_count": 49,
   "metadata": {},
   "outputs": [
    {
     "name": "stdout",
     "output_type": "stream",
     "text": [
      "<0, 1, 4>\n"
     ]
    }
   ],
   "source": [
    "genexpr = (x * x for x in range(3))\n",
    "print_vector(*genexpr)"
   ]
  },
  {
   "cell_type": "markdown",
   "metadata": {},
   "source": [
    "Similarly, `**` let's us unpack a dictionary, which would be useful if we had stored our vector coordinates in a dictionary for some unconceivable reason"
   ]
  },
  {
   "cell_type": "code",
   "execution_count": 50,
   "metadata": {},
   "outputs": [
    {
     "name": "stdout",
     "output_type": "stream",
     "text": [
      "<1, 0, 1>\n"
     ]
    }
   ],
   "source": [
    "vec_dict = {'y': 0, 'z': 1, 'x': 1}\n",
    "print_vector(**vec_dict)"
   ]
  },
  {
   "cell_type": "markdown",
   "metadata": {},
   "source": [
    "#### Nothing to Return Here "
   ]
  },
  {
   "cell_type": "markdown",
   "metadata": {},
   "source": [
    "Python implicitly returns `None` for any function which lacks an explicit `return` statement. Author's rule of thumb is to leave out the return statement if the function doesn't have or doesn't need one, meaning that the function will just return `None`. This isn't uncommon, `print()` returns `None`, and is in fact used exclusively for its side effect. \n",
    "\n",
    "What are the tradeoffs? On the one hand, letting returns be implicit makes code more concise and (arguably) 'prettier'. On the other, the implicitly-returned `None` likely isn't obvious to everyone (it certainly wasn't to me when I first encountered it), and from a maintenance standpoint anything surprising is likely to be a liable down the road. "
   ]
  },
  {
   "cell_type": "markdown",
   "metadata": {},
   "source": [
    "### Chapter 4, Classes & OOP"
   ]
  },
  {
   "cell_type": "markdown",
   "metadata": {},
   "source": [
    "#### Object Comparisons: 'is' versus '==' "
   ]
  },
  {
   "cell_type": "markdown",
   "metadata": {},
   "source": [
    "Equality and identity aren't the same thing. Two lists can be equal, having the same objects, without actually pointing to the same underlying data structure in memory. "
   ]
  },
  {
   "cell_type": "code",
   "execution_count": 51,
   "metadata": {},
   "outputs": [],
   "source": [
    "a = b = [1,3,5]"
   ]
  },
  {
   "cell_type": "code",
   "execution_count": 52,
   "metadata": {},
   "outputs": [
    {
     "data": {
      "text/plain": [
       "True"
      ]
     },
     "execution_count": 52,
     "metadata": {},
     "output_type": "execute_result"
    }
   ],
   "source": [
    "a == b"
   ]
  },
  {
   "cell_type": "code",
   "execution_count": 53,
   "metadata": {},
   "outputs": [
    {
     "data": {
      "text/plain": [
       "True"
      ]
     },
     "execution_count": 53,
     "metadata": {},
     "output_type": "execute_result"
    }
   ],
   "source": [
    "a is b"
   ]
  },
  {
   "cell_type": "code",
   "execution_count": 54,
   "metadata": {},
   "outputs": [
    {
     "data": {
      "text/plain": [
       "(False, True)"
      ]
     },
     "execution_count": 54,
     "metadata": {},
     "output_type": "execute_result"
    }
   ],
   "source": [
    "a = [4,5,6] \n",
    "b = [4,5,6] \n",
    "\n",
    "a is b, a == b"
   ]
  },
  {
   "cell_type": "markdown",
   "metadata": {},
   "source": [
    "#### String Conversion"
   ]
  },
  {
   "cell_type": "markdown",
   "metadata": {},
   "source": [
    "If we define a class and then try to print it for the purposes of inspecting it, we get a class name and id, corresponding to the memory address in CPython. "
   ]
  },
  {
   "cell_type": "code",
   "execution_count": 55,
   "metadata": {},
   "outputs": [
    {
     "name": "stdout",
     "output_type": "stream",
     "text": [
      "<__main__.Car object at 0x1130ad1d0>\n"
     ]
    }
   ],
   "source": [
    "class Car: \n",
    "    def __init__(self, color, mileage):\n",
    "        self.color = color\n",
    "        self.mileage = mileage\n",
    "        \n",
    "my_car = Car('red', 112233)\n",
    "print(my_car)"
   ]
  },
  {
   "cell_type": "markdown",
   "metadata": {},
   "source": [
    "The best course of action here is to add the dunder `__str__` or `__repr__` methods to our class, which afford us a fair bit of control over how objects are transformed into strings in various scenarious. "
   ]
  },
  {
   "cell_type": "code",
   "execution_count": 59,
   "metadata": {},
   "outputs": [
    {
     "name": "stdout",
     "output_type": "stream",
     "text": [
      "A green car\n"
     ]
    }
   ],
   "source": [
    "class betterCar:\n",
    "    def __init__(self, color, mileage):\n",
    "        self.color = color \n",
    "        self.mileage = mileage \n",
    "        \n",
    "    def __str__(self):\n",
    "        return f'A {self.color} car'\n",
    "    \n",
    "my_better_car = betterCar('green', 112233)\n",
    "print(my_better_car)"
   ]
  },
  {
   "cell_type": "markdown",
   "metadata": {},
   "source": [
    "How is `__str__` different from `__repr__`? Both control how objects are converted into strings, but are useful in different situations. "
   ]
  },
  {
   "cell_type": "code",
   "execution_count": 61,
   "metadata": {},
   "outputs": [
    {
     "name": "stdout",
     "output_type": "stream",
     "text": [
      "__str__ for thirdCar\n"
     ]
    }
   ],
   "source": [
    "class thirdCar:\n",
    "    def __init__(self, color, mileage):\n",
    "        self.color = color\n",
    "        self.mileage = mileage \n",
    "        \n",
    "    def __repr__(self):\n",
    "        return '__repr__ for thirdCar'\n",
    "    \n",
    "    def __str__(self):\n",
    "        return '__str__ for thirdCar'\n",
    "    \n",
    "my_third_car = thirdCar('red', 112233)\n",
    "print(my_third_car)"
   ]
  },
  {
   "cell_type": "code",
   "execution_count": 62,
   "metadata": {},
   "outputs": [
    {
     "data": {
      "text/plain": [
       "__repr__ for thirdCar"
      ]
     },
     "execution_count": 62,
     "metadata": {},
     "output_type": "execute_result"
    }
   ],
   "source": [
    "my_third_car"
   ]
  },
  {
   "cell_type": "markdown",
   "metadata": {},
   "source": [
    "What this means is that when I toss an object into the console for inspection what's returned is that object's `__repr__`. By using the relevant dunder method I can exercise some influence over how that process works. Python also has built-in `str()` and `repr()` methods which basically do the same thing, and it's best practice to use those. \n",
    "\n",
    "The `__str__` method can be thought of as generally returning the kind of human-readable string we might display to a user, while the `__repr__` method instead returns a string that a programmer might use for debugging. \n",
    "\n",
    "If `__repr__` isn't added to a class then Python defaults to it when looking for `__str__`, with a correspondingly ugly output. It's therefore a good idea to add `__repr__` methods to class definitions.  \n",
    "\n",
    "This is nice and concise:"
   ]
  },
  {
   "cell_type": "code",
   "execution_count": 64,
   "metadata": {},
   "outputs": [],
   "source": [
    "def __repr__(self):\n",
    "    return (f'{self.__class__.__name__}('f'{self.color!r}, {self.mileage!r})')\n",
    "\n",
    "# The !r is a conversion flag which tells this function to use the repr's for color and mileage.\n"
   ]
  },
  {
   "cell_type": "markdown",
   "metadata": {},
   "source": [
    "#### Defining Your Own Exception Classes"
   ]
  },
  {
   "cell_type": "markdown",
   "metadata": {},
   "source": [
    "Custom-built exception classes can be quite useful for debugging and maintaining code. It takes a bit of engineering to get the maximum amount of usefulness out of them. Observe:"
   ]
  },
  {
   "cell_type": "code",
   "execution_count": 66,
   "metadata": {},
   "outputs": [
    {
     "ename": "ValueError",
     "evalue": "",
     "output_type": "error",
     "traceback": [
      "\u001b[0;31m---------------------------------------------------------------------------\u001b[0m",
      "\u001b[0;31mValueError\u001b[0m                                Traceback (most recent call last)",
      "\u001b[0;32m<ipython-input-66-436ecdad9257>\u001b[0m in \u001b[0;36m<module>\u001b[0;34m()\u001b[0m\n\u001b[1;32m      3\u001b[0m         \u001b[0;32mraise\u001b[0m \u001b[0mValueError\u001b[0m\u001b[0;34m\u001b[0m\u001b[0;34m\u001b[0m\u001b[0m\n\u001b[1;32m      4\u001b[0m \u001b[0;34m\u001b[0m\u001b[0m\n\u001b[0;32m----> 5\u001b[0;31m \u001b[0mvalidate\u001b[0m\u001b[0;34m(\u001b[0m\u001b[0;34m'Trent'\u001b[0m\u001b[0;34m)\u001b[0m\u001b[0;34m\u001b[0m\u001b[0;34m\u001b[0m\u001b[0m\n\u001b[0m",
      "\u001b[0;32m<ipython-input-66-436ecdad9257>\u001b[0m in \u001b[0;36mvalidate\u001b[0;34m(name)\u001b[0m\n\u001b[1;32m      1\u001b[0m \u001b[0;32mdef\u001b[0m \u001b[0mvalidate\u001b[0m\u001b[0;34m(\u001b[0m\u001b[0mname\u001b[0m\u001b[0;34m)\u001b[0m\u001b[0;34m:\u001b[0m\u001b[0;34m\u001b[0m\u001b[0;34m\u001b[0m\u001b[0m\n\u001b[1;32m      2\u001b[0m     \u001b[0;32mif\u001b[0m \u001b[0mlen\u001b[0m\u001b[0;34m(\u001b[0m\u001b[0mname\u001b[0m\u001b[0;34m)\u001b[0m \u001b[0;34m<\u001b[0m \u001b[0;36m10\u001b[0m\u001b[0;34m:\u001b[0m\u001b[0;34m\u001b[0m\u001b[0;34m\u001b[0m\u001b[0m\n\u001b[0;32m----> 3\u001b[0;31m         \u001b[0;32mraise\u001b[0m \u001b[0mValueError\u001b[0m\u001b[0;34m\u001b[0m\u001b[0;34m\u001b[0m\u001b[0m\n\u001b[0m\u001b[1;32m      4\u001b[0m \u001b[0;34m\u001b[0m\u001b[0m\n\u001b[1;32m      5\u001b[0m \u001b[0mvalidate\u001b[0m\u001b[0;34m(\u001b[0m\u001b[0;34m'Trent'\u001b[0m\u001b[0;34m)\u001b[0m\u001b[0;34m\u001b[0m\u001b[0;34m\u001b[0m\u001b[0m\n",
      "\u001b[0;31mValueError\u001b[0m: "
     ]
    }
   ],
   "source": [
    "def validate(name):\n",
    "    if len(name) < 10:\n",
    "        raise ValueError\n",
    "        \n",
    "validate('Trent')"
   ]
  },
  {
   "cell_type": "markdown",
   "metadata": {},
   "source": [
    "This stack trace isn't super useful. If we instead define a class which handles this error, we get a kind of self-documenting effect which is far more useful. "
   ]
  },
  {
   "cell_type": "code",
   "execution_count": 69,
   "metadata": {},
   "outputs": [],
   "source": [
    "class NameTooShortError(ValueError):\n",
    "    pass\n",
    "\n",
    "def validate(name):\n",
    "    if len(name) < 10:\n",
    "        raise NameTooShortError(name)"
   ]
  },
  {
   "cell_type": "code",
   "execution_count": 70,
   "metadata": {},
   "outputs": [
    {
     "ename": "NameTooShortError",
     "evalue": "Trent",
     "output_type": "error",
     "traceback": [
      "\u001b[0;31m---------------------------------------------------------------------------\u001b[0m",
      "\u001b[0;31mNameTooShortError\u001b[0m                         Traceback (most recent call last)",
      "\u001b[0;32m<ipython-input-70-07888ed53da7>\u001b[0m in \u001b[0;36m<module>\u001b[0;34m()\u001b[0m\n\u001b[0;32m----> 1\u001b[0;31m \u001b[0mvalidate\u001b[0m\u001b[0;34m(\u001b[0m\u001b[0;34m'Trent'\u001b[0m\u001b[0;34m)\u001b[0m\u001b[0;34m\u001b[0m\u001b[0;34m\u001b[0m\u001b[0m\n\u001b[0m",
      "\u001b[0;32m<ipython-input-69-4ee2fd66279c>\u001b[0m in \u001b[0;36mvalidate\u001b[0;34m(name)\u001b[0m\n\u001b[1;32m      4\u001b[0m \u001b[0;32mdef\u001b[0m \u001b[0mvalidate\u001b[0m\u001b[0;34m(\u001b[0m\u001b[0mname\u001b[0m\u001b[0;34m)\u001b[0m\u001b[0;34m:\u001b[0m\u001b[0;34m\u001b[0m\u001b[0;34m\u001b[0m\u001b[0m\n\u001b[1;32m      5\u001b[0m     \u001b[0;32mif\u001b[0m \u001b[0mlen\u001b[0m\u001b[0;34m(\u001b[0m\u001b[0mname\u001b[0m\u001b[0;34m)\u001b[0m \u001b[0;34m<\u001b[0m \u001b[0;36m10\u001b[0m\u001b[0;34m:\u001b[0m\u001b[0;34m\u001b[0m\u001b[0;34m\u001b[0m\u001b[0m\n\u001b[0;32m----> 6\u001b[0;31m         \u001b[0;32mraise\u001b[0m \u001b[0mNameTooShortError\u001b[0m\u001b[0;34m(\u001b[0m\u001b[0mname\u001b[0m\u001b[0;34m)\u001b[0m\u001b[0;34m\u001b[0m\u001b[0;34m\u001b[0m\u001b[0m\n\u001b[0m",
      "\u001b[0;31mNameTooShortError\u001b[0m: Trent"
     ]
    }
   ],
   "source": [
    "validate('Trent')"
   ]
  },
  {
   "cell_type": "markdown",
   "metadata": {},
   "source": [
    "We can actually push this up a level of abstraction, defining a base 'error' class from which other error classes inherit. "
   ]
  },
  {
   "cell_type": "code",
   "execution_count": 73,
   "metadata": {},
   "outputs": [],
   "source": [
    "class BaseValidationError(ValueError):\n",
    "    pass\n",
    "\n",
    "class NameTooShortError(BaseValidationError):\n",
    "    pass\n",
    "\n",
    "class NameTooLongError(BaseValidationError):\n",
    "    pass\n",
    "\n",
    "class NameTooCuteError(BaseValidationError):\n",
    "    pass\n",
    "\n",
    "name = 'Trent'\n",
    "try: \n",
    "    validate(name)\n",
    "except BaseValidationError as err:\n",
    "    NameTooShortError(err)"
   ]
  },
  {
   "cell_type": "markdown",
   "metadata": {},
   "source": [
    "#### Cloning Objects for Fun and Profit. "
   ]
  },
  {
   "cell_type": "markdown",
   "metadata": {},
   "source": [
    "In python assignment statements don't create copies, they bind names to objects. With immutable data structures we don't usually care, but it's sometimes helpful to be able to create an actual copy to work with independently of the original. \n",
    "\n",
    "One way we could create a copy of mutable collections like lists, dicts, and sets is by passing an existing list, dict, or set into the appropriate factory function and then reassigning it:\n",
    "\n",
    "`new_list = list(old_list)` \n",
    "\n",
    "But this technique creates only a shallow copy, and it is important to understand the distinction between deep and shallow copies. \n",
    "\n",
    "A shallow copy makes a new collection object and then populates it with *references* to the items contained in the original, not actual *copies* of those items. A deep copy on the other hand, crawls through the original collection object making clones of everything it finds and placing those clones in the new object. \n",
    "\n",
    "Put another way, shallow copies don't recurse while deep copies do. "
   ]
  },
  {
   "cell_type": "code",
   "execution_count": 5,
   "metadata": {},
   "outputs": [
    {
     "data": {
      "text/plain": [
       "([[1, 2, 3], [4, 5, 6], [7, 8, 9], ['A new sublist']],\n",
       " [[1, 2, 3], [4, 5, 6], [7, 8, 9]])"
      ]
     },
     "execution_count": 5,
     "metadata": {},
     "output_type": "execute_result"
    }
   ],
   "source": [
    "# Making a shallow copy.\n",
    "\n",
    "xs = [[1,2,3], [4,5,6], [7,8,9]]\n",
    "ys = list(xs)\n",
    "\n",
    "# These two objects contain the same elements, but watch what happens when \n",
    "# we add a new sublist.\n",
    "\n",
    "xs.append(['A new sublist'])\n",
    "xs, ys"
   ]
  },
  {
   "cell_type": "markdown",
   "metadata": {},
   "source": [
    "If we change any of the *original* elements in xs, the change will be reflected in ys:"
   ]
  },
  {
   "cell_type": "code",
   "execution_count": 4,
   "metadata": {},
   "outputs": [
    {
     "data": {
      "text/plain": [
       "([[1, 2, 3], ['X', 5, 6], [7, 8, 9], ['A new sublist']],\n",
       " [[1, 2, 3], ['X', 5, 6], [7, 8, 9]])"
      ]
     },
     "execution_count": 4,
     "metadata": {},
     "output_type": "execute_result"
    }
   ],
   "source": [
    "xs[1][0] = 'X'\n",
    "xs, ys"
   ]
  },
  {
   "cell_type": "markdown",
   "metadata": {},
   "source": [
    "The questions which remain now are: how do we create deep copies, and how do create copies of non-standard objects like custom classes?\n",
    "\n",
    "The answer: the Python `copy` module."
   ]
  },
  {
   "cell_type": "code",
   "execution_count": 9,
   "metadata": {},
   "outputs": [
    {
     "name": "stdout",
     "output_type": "stream",
     "text": [
      "[[1, 2, 3], ['X', 5, 6], [7, 8, 9]] \n",
      " [[1, 2, 3], [4, 5, 6], [7, 8, 9]]\n"
     ]
    }
   ],
   "source": [
    "import copy \n",
    "xs = [[1,2,3],[4,5,6],[7,8,9]]\n",
    "zs = copy.deepcopy(xs)\n",
    "\n",
    "xs[1][0] = 'X'\n",
    "\n",
    "print(xs,'\\n', zs)"
   ]
  },
  {
   "cell_type": "markdown",
   "metadata": {},
   "source": [
    "Making shallow or deep copies of custom objects is done through the `copy` class again. `copy.copy()` for shallow copies, `copy.deepcopy()` for deeper ones. "
   ]
  },
  {
   "cell_type": "code",
   "execution_count": 13,
   "metadata": {},
   "outputs": [
    {
     "name": "stdout",
     "output_type": "stream",
     "text": [
      "False\n"
     ]
    }
   ],
   "source": [
    "class Point:\n",
    "    def __init__(self, x, y,):\n",
    "        self.x = x\n",
    "        self.y = y\n",
    "        \n",
    "    def __repr__(self):\n",
    "        return f'Point({self.x!r}, {self.y!r})'\n",
    "    \n",
    "a = Point(23,42)\n",
    "b = copy.copy(a)\n",
    "\n",
    "print(a is b)"
   ]
  },
  {
   "cell_type": "markdown",
   "metadata": {},
   "source": [
    "#### Abstract Base Classes Keep Inheritance in Check\n",
    "\n",
    "Abstract base classes are good for insuring that derived classes implement specific methods from the base class. Ideally we want two things from an abstract base class: we want it to be impossible to implement the base class, we want any lapses in creating interfaces for subclasses errors out as soon as possible. Here's an example of this not being done well:"
   ]
  },
  {
   "cell_type": "code",
   "execution_count": 18,
   "metadata": {},
   "outputs": [
    {
     "ename": "NotImplementedError",
     "evalue": "",
     "output_type": "error",
     "traceback": [
      "\u001b[0;31m---------------------------------------------------------------------------\u001b[0m",
      "\u001b[0;31mNotImplementedError\u001b[0m                       Traceback (most recent call last)",
      "\u001b[0;32m<ipython-input-18-4ff7eff62589>\u001b[0m in \u001b[0;36m<module>\u001b[0;34m()\u001b[0m\n\u001b[1;32m     12\u001b[0m \u001b[0;31m# Here we instantiate the base class, which is a no-no.\u001b[0m\u001b[0;34m\u001b[0m\u001b[0;34m\u001b[0m\u001b[0;34m\u001b[0m\u001b[0m\n\u001b[1;32m     13\u001b[0m \u001b[0mb\u001b[0m \u001b[0;34m=\u001b[0m \u001b[0mBase\u001b[0m\u001b[0;34m(\u001b[0m\u001b[0;34m)\u001b[0m\u001b[0;34m\u001b[0m\u001b[0;34m\u001b[0m\u001b[0m\n\u001b[0;32m---> 14\u001b[0;31m \u001b[0mb\u001b[0m\u001b[0;34m.\u001b[0m\u001b[0mbar\u001b[0m\u001b[0;34m(\u001b[0m\u001b[0;34m)\u001b[0m\u001b[0;34m\u001b[0m\u001b[0;34m\u001b[0m\u001b[0m\n\u001b[0m",
      "\u001b[0;32m<ipython-input-18-4ff7eff62589>\u001b[0m in \u001b[0;36mbar\u001b[0;34m(self)\u001b[0m\n\u001b[1;32m      4\u001b[0m \u001b[0;34m\u001b[0m\u001b[0m\n\u001b[1;32m      5\u001b[0m     \u001b[0;32mdef\u001b[0m \u001b[0mbar\u001b[0m\u001b[0;34m(\u001b[0m\u001b[0mself\u001b[0m\u001b[0;34m)\u001b[0m\u001b[0;34m:\u001b[0m\u001b[0;34m\u001b[0m\u001b[0;34m\u001b[0m\u001b[0m\n\u001b[0;32m----> 6\u001b[0;31m         \u001b[0;32mraise\u001b[0m \u001b[0mNotImplementedError\u001b[0m\u001b[0;34m(\u001b[0m\u001b[0;34m)\u001b[0m\u001b[0;34m\u001b[0m\u001b[0;34m\u001b[0m\u001b[0m\n\u001b[0m\u001b[1;32m      7\u001b[0m \u001b[0;34m\u001b[0m\u001b[0m\n\u001b[1;32m      8\u001b[0m \u001b[0;32mclass\u001b[0m \u001b[0mConcrete\u001b[0m\u001b[0;34m(\u001b[0m\u001b[0mBase\u001b[0m\u001b[0;34m)\u001b[0m\u001b[0;34m:\u001b[0m\u001b[0;34m\u001b[0m\u001b[0;34m\u001b[0m\u001b[0m\n",
      "\u001b[0;31mNotImplementedError\u001b[0m: "
     ]
    }
   ],
   "source": [
    "class Base:\n",
    "    def foo(self):\n",
    "        raise NotImplementedError()\n",
    "        \n",
    "    def bar(self):\n",
    "        raise NotImplementedError()\n",
    "        \n",
    "class Concrete(Base):\n",
    "    def foo(self):\n",
    "        return 'foo implemented'\n",
    "    \n",
    "# Here we instantiate the base class, which is a no-no.\n",
    "b = Base()\n",
    "b.bar()"
   ]
  },
  {
   "cell_type": "code",
   "execution_count": 19,
   "metadata": {},
   "outputs": [
    {
     "data": {
      "text/plain": [
       "'foo implemented'"
      ]
     },
     "execution_count": 19,
     "metadata": {},
     "output_type": "execute_result"
    }
   ],
   "source": [
    "# Here we instantiate Concrete, but it doesn't throw an error until we call the wrong method. \n",
    "\n",
    "c = Concrete()\n",
    "c.foo()"
   ]
  },
  {
   "cell_type": "code",
   "execution_count": 20,
   "metadata": {},
   "outputs": [
    {
     "ename": "NotImplementedError",
     "evalue": "",
     "output_type": "error",
     "traceback": [
      "\u001b[0;31m---------------------------------------------------------------------------\u001b[0m",
      "\u001b[0;31mNotImplementedError\u001b[0m                       Traceback (most recent call last)",
      "\u001b[0;32m<ipython-input-20-e96fccd89134>\u001b[0m in \u001b[0;36m<module>\u001b[0;34m()\u001b[0m\n\u001b[0;32m----> 1\u001b[0;31m \u001b[0mc\u001b[0m\u001b[0;34m.\u001b[0m\u001b[0mbar\u001b[0m\u001b[0;34m(\u001b[0m\u001b[0;34m)\u001b[0m\u001b[0;34m\u001b[0m\u001b[0;34m\u001b[0m\u001b[0m\n\u001b[0m",
      "\u001b[0;32m<ipython-input-18-4ff7eff62589>\u001b[0m in \u001b[0;36mbar\u001b[0;34m(self)\u001b[0m\n\u001b[1;32m      4\u001b[0m \u001b[0;34m\u001b[0m\u001b[0m\n\u001b[1;32m      5\u001b[0m     \u001b[0;32mdef\u001b[0m \u001b[0mbar\u001b[0m\u001b[0;34m(\u001b[0m\u001b[0mself\u001b[0m\u001b[0;34m)\u001b[0m\u001b[0;34m:\u001b[0m\u001b[0;34m\u001b[0m\u001b[0;34m\u001b[0m\u001b[0m\n\u001b[0;32m----> 6\u001b[0;31m         \u001b[0;32mraise\u001b[0m \u001b[0mNotImplementedError\u001b[0m\u001b[0;34m(\u001b[0m\u001b[0;34m)\u001b[0m\u001b[0;34m\u001b[0m\u001b[0;34m\u001b[0m\u001b[0m\n\u001b[0m\u001b[1;32m      7\u001b[0m \u001b[0;34m\u001b[0m\u001b[0m\n\u001b[1;32m      8\u001b[0m \u001b[0;32mclass\u001b[0m \u001b[0mConcrete\u001b[0m\u001b[0;34m(\u001b[0m\u001b[0mBase\u001b[0m\u001b[0;34m)\u001b[0m\u001b[0;34m:\u001b[0m\u001b[0;34m\u001b[0m\u001b[0;34m\u001b[0m\u001b[0m\n",
      "\u001b[0;31mNotImplementedError\u001b[0m: "
     ]
    }
   ],
   "source": [
    "c.bar()"
   ]
  },
  {
   "cell_type": "markdown",
   "metadata": {},
   "source": [
    "Since Python 2.6, the abc module has given us tools for better handling this issue."
   ]
  },
  {
   "cell_type": "code",
   "execution_count": 24,
   "metadata": {},
   "outputs": [
    {
     "ename": "TypeError",
     "evalue": "Can't instantiate abstract class Base with abstract methods bar, foo",
     "output_type": "error",
     "traceback": [
      "\u001b[0;31m---------------------------------------------------------------------------\u001b[0m",
      "\u001b[0;31mTypeError\u001b[0m                                 Traceback (most recent call last)",
      "\u001b[0;32m<ipython-input-24-145cb6aca066>\u001b[0m in \u001b[0;36m<module>\u001b[0;34m()\u001b[0m\n\u001b[1;32m     16\u001b[0m \u001b[0;34m\u001b[0m\u001b[0m\n\u001b[1;32m     17\u001b[0m \u001b[0;34m\u001b[0m\u001b[0m\n\u001b[0;32m---> 18\u001b[0;31m \u001b[0mb\u001b[0m \u001b[0;34m=\u001b[0m \u001b[0mBase\u001b[0m\u001b[0;34m(\u001b[0m\u001b[0;34m)\u001b[0m\u001b[0;34m\u001b[0m\u001b[0;34m\u001b[0m\u001b[0m\n\u001b[0m",
      "\u001b[0;31mTypeError\u001b[0m: Can't instantiate abstract class Base with abstract methods bar, foo"
     ]
    }
   ],
   "source": [
    "from abc import ABCMeta, abstractmethod\n",
    "\n",
    "class Base(metaclass=ABCMeta):\n",
    "    \n",
    "    @abstractmethod\n",
    "    def foo(self):\n",
    "        pass\n",
    "    \n",
    "    @abstractmethod\n",
    "    def bar(self):\n",
    "        pass\n",
    "    \n",
    "class Concrete(Base):\n",
    "    def foo(self):\n",
    "        pass\n",
    "    \n",
    "\n",
    "b = Base()"
   ]
  },
  {
   "cell_type": "code",
   "execution_count": 25,
   "metadata": {},
   "outputs": [
    {
     "ename": "TypeError",
     "evalue": "Can't instantiate abstract class Concrete with abstract methods bar",
     "output_type": "error",
     "traceback": [
      "\u001b[0;31m---------------------------------------------------------------------------\u001b[0m",
      "\u001b[0;31mTypeError\u001b[0m                                 Traceback (most recent call last)",
      "\u001b[0;32m<ipython-input-25-18c56bd1fab2>\u001b[0m in \u001b[0;36m<module>\u001b[0;34m()\u001b[0m\n\u001b[0;32m----> 1\u001b[0;31m \u001b[0mc\u001b[0m \u001b[0;34m=\u001b[0m \u001b[0mConcrete\u001b[0m\u001b[0;34m(\u001b[0m\u001b[0;34m)\u001b[0m\u001b[0;34m\u001b[0m\u001b[0;34m\u001b[0m\u001b[0m\n\u001b[0m",
      "\u001b[0;31mTypeError\u001b[0m: Can't instantiate abstract class Concrete with abstract methods bar"
     ]
    }
   ],
   "source": [
    "c = Concrete()"
   ]
  },
  {
   "cell_type": "markdown",
   "metadata": {},
   "source": [
    "#### What NamedTuples are good for"
   ]
  },
  {
   "cell_type": "markdown",
   "metadata": {},
   "source": [
    "We already have standard tuples, so what do we need an additional tuple data structure for? \n",
    "\n",
    "Tuples have a couple of downsides. First, there's no way to attach names to individual elements within a tuple, so the only way to get anything out is through indexing. Second, it's pretty hard to insure that two tuples have the same content. \n",
    "\n",
    "NamedTuples solve these two problems, while still being immutable data containers just like tuples. Data stored in a top-level attribute can't be changed, but all data can be accessed through a human-readable name. "
   ]
  },
  {
   "cell_type": "code",
   "execution_count": 2,
   "metadata": {},
   "outputs": [],
   "source": [
    "from collections import namedtuple\n",
    "\n",
    "Car = namedtuple('Car', 'color mileage')"
   ]
  },
  {
   "cell_type": "markdown",
   "metadata": {},
   "source": [
    "Here we're using the namedtuple factory function to create what's basically a class. The first argument is a `typename` argument which tells namedtuple the name of the variable to which we're assigning it (otherwise it has no way of knowing). The next argument is a single string containing names for whatever we'll eventually include in `Car`, on which namedtuple calls `.split()` to create a list of strings (though it is also syntactically correct to pass in a list of strings at this point). "
   ]
  },
  {
   "cell_type": "code",
   "execution_count": 3,
   "metadata": {},
   "outputs": [
    {
     "data": {
      "text/plain": [
       "'green'"
      ]
     },
     "execution_count": 3,
     "metadata": {},
     "output_type": "execute_result"
    }
   ],
   "source": [
    "my_car = Car('green', 1234)\n",
    "my_car.color"
   ]
  },
  {
   "cell_type": "code",
   "execution_count": 4,
   "metadata": {},
   "outputs": [
    {
     "data": {
      "text/plain": [
       "1234"
      ]
     },
     "execution_count": 4,
     "metadata": {},
     "output_type": "execute_result"
    }
   ],
   "source": [
    "my_car.mileage"
   ]
  },
  {
   "cell_type": "code",
   "execution_count": 5,
   "metadata": {},
   "outputs": [
    {
     "data": {
      "text/plain": [
       "'green'"
      ]
     },
     "execution_count": 5,
     "metadata": {},
     "output_type": "execute_result"
    }
   ],
   "source": [
    "# But integer indexing also works, so NamedTuples can be dropped in as replacements for tuples.\n",
    "\n",
    "my_car[0]"
   ]
  },
  {
   "cell_type": "code",
   "execution_count": 6,
   "metadata": {},
   "outputs": [
    {
     "name": "stdout",
     "output_type": "stream",
     "text": [
      "green 1234\n"
     ]
    }
   ],
   "source": [
    "# We can also tuple unpack it\n",
    "print(*my_car)"
   ]
  },
  {
   "cell_type": "markdown",
   "metadata": {},
   "source": [
    "Internally a namedtuple is just an immutable class that's a little more memory efficient. "
   ]
  },
  {
   "cell_type": "markdown",
   "metadata": {},
   "source": [
    "#### Subclassing named tuples\n",
    "\n",
    "Though there may not be a way to do it in the original named tuple definition, with subclassing we can create named tuples which have methods. "
   ]
  },
  {
   "cell_type": "code",
   "execution_count": 9,
   "metadata": {},
   "outputs": [
    {
     "name": "stdout",
     "output_type": "stream",
     "text": [
      "Hello\n"
     ]
    }
   ],
   "source": [
    "Student = namedtuple('Student', 'age weight iq')\n",
    "\n",
    "class StudentWithMethods(Student):\n",
    "    def student_greeting(self):\n",
    "        print('Hello')\n",
    "        \n",
    "stud_2 = StudentWithMethods(13, 100, 110)\n",
    "stud_2.student_greeting()"
   ]
  },
  {
   "cell_type": "markdown",
   "metadata": {},
   "source": [
    "It's even possible to use a kind of inheritance to add immutable fields to a new namedtuple "
   ]
  },
  {
   "cell_type": "code",
   "execution_count": 13,
   "metadata": {},
   "outputs": [],
   "source": [
    "ElectricCar = namedtuple('ElectricCar', Car._fields + ('charge',))"
   ]
  },
  {
   "cell_type": "code",
   "execution_count": 14,
   "metadata": {},
   "outputs": [],
   "source": [
    "new_electric = ElectricCar('green', 40000, 40)"
   ]
  },
  {
   "cell_type": "markdown",
   "metadata": {},
   "source": [
    "Some useful `namedtuple` helper functions include `._asdict()`, `._replace()`, and `._make()`. "
   ]
  },
  {
   "cell_type": "code",
   "execution_count": 17,
   "metadata": {},
   "outputs": [
    {
     "data": {
      "text/plain": [
       "OrderedDict([('color', 'green'), ('mileage', 40000), ('charge', 40)])"
      ]
     },
     "execution_count": 17,
     "metadata": {},
     "output_type": "execute_result"
    }
   ],
   "source": [
    "new_electric._asdict()"
   ]
  },
  {
   "cell_type": "code",
   "execution_count": 21,
   "metadata": {},
   "outputs": [
    {
     "data": {
      "text/plain": [
       "'blue'"
      ]
     },
     "execution_count": 21,
     "metadata": {},
     "output_type": "execute_result"
    }
   ],
   "source": [
    "new_new_electric = new_electric._replace(color='blue')\n",
    "new_new_electric.color"
   ]
  },
  {
   "cell_type": "markdown",
   "metadata": {},
   "source": [
    "#### Class v.s. Instance Pitfalls"
   ]
  },
  {
   "cell_type": "markdown",
   "metadata": {},
   "source": [
    "Just as Python's object model distinguishes between class methods and instance methods, it also distinguishes between class variables and instance variables. Class variables are stored in the class definition and as such are not tied to any particular instance of a class. When they are changed all class instances have access to the new values. This is not the case for instance variables, which are specific to their instance. \n"
   ]
  },
  {
   "cell_type": "code",
   "execution_count": 22,
   "metadata": {},
   "outputs": [],
   "source": [
    "class Dog:\n",
    "    num_legs = 4 # class variable \n",
    "    \n",
    "    def __init__(self, name):\n",
    "        self.name = name # defined within the class, but will be an instance variable. \n",
    "        \n"
   ]
  },
  {
   "cell_type": "markdown",
   "metadata": {},
   "source": [
    "`num_legs` is accessible through instances or through the class itself. "
   ]
  },
  {
   "cell_type": "code",
   "execution_count": 23,
   "metadata": {},
   "outputs": [
    {
     "data": {
      "text/plain": [
       "4"
      ]
     },
     "execution_count": 23,
     "metadata": {},
     "output_type": "execute_result"
    }
   ],
   "source": [
    "Dog.num_legs"
   ]
  },
  {
   "cell_type": "code",
   "execution_count": 24,
   "metadata": {},
   "outputs": [
    {
     "data": {
      "text/plain": [
       "4"
      ]
     },
     "execution_count": 24,
     "metadata": {},
     "output_type": "execute_result"
    }
   ],
   "source": [
    "jack = Dog('jack')\n",
    "jack.num_legs"
   ]
  },
  {
   "cell_type": "code",
   "execution_count": 25,
   "metadata": {},
   "outputs": [
    {
     "ename": "AttributeError",
     "evalue": "type object 'Dog' has no attribute 'name'",
     "output_type": "error",
     "traceback": [
      "\u001b[0;31m---------------------------------------------------------------------------\u001b[0m",
      "\u001b[0;31mAttributeError\u001b[0m                            Traceback (most recent call last)",
      "\u001b[0;32m<ipython-input-25-abdea3034732>\u001b[0m in \u001b[0;36m<module>\u001b[0;34m()\u001b[0m\n\u001b[1;32m      1\u001b[0m \u001b[0;31m# Look at what happens here:\u001b[0m\u001b[0;34m\u001b[0m\u001b[0;34m\u001b[0m\u001b[0;34m\u001b[0m\u001b[0m\n\u001b[1;32m      2\u001b[0m \u001b[0;34m\u001b[0m\u001b[0m\n\u001b[0;32m----> 3\u001b[0;31m \u001b[0mDog\u001b[0m\u001b[0;34m.\u001b[0m\u001b[0mname\u001b[0m\u001b[0;34m\u001b[0m\u001b[0;34m\u001b[0m\u001b[0m\n\u001b[0m",
      "\u001b[0;31mAttributeError\u001b[0m: type object 'Dog' has no attribute 'name'"
     ]
    }
   ],
   "source": [
    "# Look at what happens here:\n",
    "\n",
    "Dog.name"
   ]
  },
  {
   "cell_type": "markdown",
   "metadata": {},
   "source": [
    "Though it was defined in the `Dog` definition it is unique to each instance and therefore not accessible through `Dog` as a class. "
   ]
  },
  {
   "cell_type": "markdown",
   "metadata": {},
   "source": [
    "The class variable `num_legs` can be overridden for specific instances:"
   ]
  },
  {
   "cell_type": "code",
   "execution_count": 29,
   "metadata": {},
   "outputs": [
    {
     "name": "stdout",
     "output_type": "stream",
     "text": [
      "4 6 4\n"
     ]
    }
   ],
   "source": [
    "jill = Dog('jill')\n",
    "\n",
    "jack.num_legs = 6\n",
    "\n",
    "print(jill.num_legs, jack.num_legs, jack.__class__.num_legs)"
   ]
  },
  {
   "cell_type": "markdown",
   "metadata": {},
   "source": [
    "This can lead to confusion, as we've overwritten the class variable in the `jack` instance.\n",
    "\n",
    "On the other hand, we can do some pretty nifty stuff with these class variables. "
   ]
  },
  {
   "cell_type": "code",
   "execution_count": 36,
   "metadata": {},
   "outputs": [
    {
     "name": "stdout",
     "output_type": "stream",
     "text": [
      "1\n"
     ]
    }
   ],
   "source": [
    "class CountObject:\n",
    "    num_instances = 0\n",
    "    \n",
    "    def __init__(self):\n",
    "        self.__class__.num_instances += 1\n",
    "        \n",
    "ob1 = CountObject()\n",
    "print(ob1.num_instances)"
   ]
  },
  {
   "cell_type": "code",
   "execution_count": 37,
   "metadata": {},
   "outputs": [
    {
     "name": "stdout",
     "output_type": "stream",
     "text": [
      "2\n"
     ]
    }
   ],
   "source": [
    "ob2 = CountObject()\n",
    "print(ob2.num_instances)"
   ]
  },
  {
   "cell_type": "code",
   "execution_count": 38,
   "metadata": {},
   "outputs": [
    {
     "data": {
      "text/plain": [
       "2"
      ]
     },
     "execution_count": 38,
     "metadata": {},
     "output_type": "execute_result"
    }
   ],
   "source": [
    "# But check this out: \n",
    "\n",
    "ob1.num_instances"
   ]
  },
  {
   "cell_type": "markdown",
   "metadata": {},
   "source": [
    "Without the `self.__class__.num_instances += 1` syntax above, we aren't incrementing the shared class variable, only the instance variable. For each instance we are correctly incrementing by one unit but aren't changing the class variable. "
   ]
  },
  {
   "cell_type": "code",
   "execution_count": 39,
   "metadata": {},
   "outputs": [
    {
     "data": {
      "text/plain": [
       "1"
      ]
     },
     "execution_count": 39,
     "metadata": {},
     "output_type": "execute_result"
    }
   ],
   "source": [
    "class badCountObject:\n",
    "    num_instances = 0\n",
    "    \n",
    "    def __init__(self):\n",
    "        self.num_instances += 1\n",
    "        \n",
    "badob1 = badCountObject()\n",
    "badob1.num_instances"
   ]
  },
  {
   "cell_type": "code",
   "execution_count": 40,
   "metadata": {},
   "outputs": [
    {
     "data": {
      "text/plain": [
       "1"
      ]
     },
     "execution_count": 40,
     "metadata": {},
     "output_type": "execute_result"
    }
   ],
   "source": [
    "badob2 = badCountObject()\n",
    "badob2.num_instances"
   ]
  },
  {
   "cell_type": "markdown",
   "metadata": {},
   "source": [
    "#### Instance, Class, and Static Methods Demystified "
   ]
  },
  {
   "cell_type": "code",
   "execution_count": 46,
   "metadata": {},
   "outputs": [
    {
     "data": {
      "text/plain": [
       "'Static method called'"
      ]
     },
     "execution_count": 46,
     "metadata": {},
     "output_type": "execute_result"
    }
   ],
   "source": [
    "class MyClass:\n",
    "    \n",
    "    def instance_method(self):\n",
    "        return \"Instance method called\", self\n",
    "    \n",
    "    @classmethod\n",
    "    def class_method(cls):\n",
    "        return \"Class method called\", cls\n",
    "    \n",
    "    @staticmethod\n",
    "    def static_method():\n",
    "        return \"Static method called\"\n",
    "    \n",
    "ex_cls = MyClass()\n",
    "ex_cls.static_method()"
   ]
  },
  {
   "cell_type": "markdown",
   "metadata": {},
   "source": [
    "The `instance_method` is exactly what it sounds like. It takes the `self` parameter and uses this to manipulate the state of the instance it's a part of. But it can also change class state by accessing the class directly via the `self.__class__` attribute.\n",
    "\n",
    "The `class_method` is marked by the `@classmethod` decorator and takes a `cls` argument instead of `self`. This way it points directly to the class, not the instance. \n",
    "\n",
    "The `static_method` is marked by the `@staticmethod` decorator. It takes no arguments and is somewhat restricted in the data that it can access. \n",
    "\n",
    "In order to better understand what's actually occurring here it'll be useful to actually call these methods. The instance method and class method return a tuple which'll help us trace the process. "
   ]
  },
  {
   "cell_type": "code",
   "execution_count": 48,
   "metadata": {},
   "outputs": [
    {
     "data": {
      "text/plain": [
       "('Instance method called', <__main__.MyClass at 0x106634588>)"
      ]
     },
     "execution_count": 48,
     "metadata": {},
     "output_type": "execute_result"
    }
   ],
   "source": [
    "obj1 = MyClass()\n",
    "obj1.instance_method()"
   ]
  },
  {
   "cell_type": "code",
   "execution_count": 49,
   "metadata": {},
   "outputs": [
    {
     "data": {
      "text/plain": [
       "('Class method called', __main__.MyClass)"
      ]
     },
     "execution_count": 49,
     "metadata": {},
     "output_type": "execute_result"
    }
   ],
   "source": [
    "obj1.class_method()"
   ]
  },
  {
   "cell_type": "code",
   "execution_count": 50,
   "metadata": {},
   "outputs": [
    {
     "data": {
      "text/plain": [
       "'Static method called'"
      ]
     },
     "execution_count": 50,
     "metadata": {},
     "output_type": "execute_result"
    }
   ],
   "source": [
    "obj1.static_method()"
   ]
  },
  {
   "cell_type": "markdown",
   "metadata": {},
   "source": [
    "The `obj1.instance_method()` is what's known as syntactic sugar, which are Python affordances that make our lives easier. We could also pass in the `obj1` directly to evoke the same response:"
   ]
  },
  {
   "cell_type": "code",
   "execution_count": 51,
   "metadata": {},
   "outputs": [
    {
     "data": {
      "text/plain": [
       "('Instance method called', <__main__.MyClass at 0x106634588>)"
      ]
     },
     "execution_count": 51,
     "metadata": {},
     "output_type": "execute_result"
    }
   ],
   "source": [
    "MyClass.instance_method(obj1)"
   ]
  },
  {
   "cell_type": "markdown",
   "metadata": {},
   "source": [
    "If you're puzzled by the fact that the instance method returns `<__main__.MyClass at 0x106634588>` while the class method returns a different `__main__.MyClass`, this is because the default `__repr__` attribute is different for classes and instances:"
   ]
  },
  {
   "cell_type": "code",
   "execution_count": 52,
   "metadata": {},
   "outputs": [
    {
     "data": {
      "text/plain": [
       "<method-wrapper '__repr__' of MyClass object at 0x106634588>"
      ]
     },
     "execution_count": 52,
     "metadata": {},
     "output_type": "execute_result"
    }
   ],
   "source": [
    "obj1.__repr__"
   ]
  },
  {
   "cell_type": "code",
   "execution_count": 53,
   "metadata": {},
   "outputs": [
    {
     "data": {
      "text/plain": [
       "<slot wrapper '__repr__' of 'object' objects>"
      ]
     },
     "execution_count": 53,
     "metadata": {},
     "output_type": "execute_result"
    }
   ],
   "source": [
    "MyClass.__repr__"
   ]
  },
  {
   "cell_type": "markdown",
   "metadata": {},
   "source": [
    "As far as I know this difference isn't substantive. Now for the static method:"
   ]
  },
  {
   "cell_type": "code",
   "execution_count": 54,
   "metadata": {},
   "outputs": [
    {
     "data": {
      "text/plain": [
       "'Static method called'"
      ]
     },
     "execution_count": 54,
     "metadata": {},
     "output_type": "execute_result"
    }
   ],
   "source": [
    "obj1.static_method()"
   ]
  },
  {
   "cell_type": "code",
   "execution_count": 55,
   "metadata": {},
   "outputs": [
    {
     "data": {
      "text/plain": [
       "'Static method called'"
      ]
     },
     "execution_count": 55,
     "metadata": {},
     "output_type": "execute_result"
    }
   ],
   "source": [
    "MyClass.static_method()"
   ]
  },
  {
   "cell_type": "markdown",
   "metadata": {},
   "source": [
    "Creating a static method is basically a way of putting a method name into both the class's and all subsequent instance's respective namespaces -- that is, making it accessible. It has restrictions on its behavior enforced under the hood by the fact that Python doesn't pass in `self` or `cls` arguments, which otherwise would allow it to manipulate instance and class states. "
   ]
  },
  {
   "cell_type": "code",
   "execution_count": null,
   "metadata": {},
   "outputs": [],
   "source": []
  }
 ],
 "metadata": {
  "kernelspec": {
   "display_name": "Python 3",
   "language": "python",
   "name": "python3"
  },
  "language_info": {
   "codemirror_mode": {
    "name": "ipython",
    "version": 3
   },
   "file_extension": ".py",
   "mimetype": "text/x-python",
   "name": "python",
   "nbconvert_exporter": "python",
   "pygments_lexer": "ipython3",
   "version": "3.6.8"
  }
 },
 "nbformat": 4,
 "nbformat_minor": 2
}
