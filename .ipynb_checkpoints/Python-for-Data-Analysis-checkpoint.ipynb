{
 "cells": [
  {
   "cell_type": "markdown",
   "metadata": {},
   "source": [
    "This is a combination scratchpad and notebook for the book, not a comprehensive set of observations."
   ]
  },
  {
   "cell_type": "markdown",
   "metadata": {},
   "source": [
    "## Chapter 2"
   ]
  },
  {
   "cell_type": "markdown",
   "metadata": {},
   "source": [
    "### Typing"
   ]
  },
  {
   "cell_type": "markdown",
   "metadata": {},
   "source": [
    "On a number of occasions I've heard python referred to as 'strongly typed', and could never grok the explanation that invariably followed. \n",
    "\n",
    "What it means is that each object has a class associated with it which is not changed except in certain obvious circumstances. For example, if we try to run `'5' + 5` python will throw an error, which is not the case in some other languages. The author says that in Visual Basic the string `'5'` would be cast into integer form so that addition could take place, while in javascript the casting would go the other way and the integer would become a string, yielding `'55'`. Neither occurs in python. \n",
    "\n",
    "An exception would be when floats and integers are coerced so as to be compatible: `4.5 + 1` gives `5.5`, even though technically these are different data types. "
   ]
  },
  {
   "cell_type": "markdown",
   "metadata": {},
   "source": [
    "In normal typing, the suitability of an object for a purpose is determined by its type. In duck typing -- named for the phrase 'if it walks like a duck and quacks like a duck, it's a duck' -- the suitability of an object for a purpose is determined by whether or not it has certain methods or attributes. "
   ]
  },
  {
   "cell_type": "code",
   "execution_count": 1,
   "metadata": {},
   "outputs": [
    {
     "data": {
      "text/plain": [
       "'this\\\\has\\\\no\\\\special\\\\characters'"
      ]
     },
     "execution_count": 1,
     "metadata": {},
     "output_type": "execute_result"
    }
   ],
   "source": [
    "# If you have a string with many special character requirements it can \n",
    "# be prefaced with 'r', which means 'raw', and preserves formatting. \n",
    "\n",
    "s = r'this\\has\\no\\special\\characters'\n",
    "s"
   ]
  },
  {
   "cell_type": "markdown",
   "metadata": {},
   "source": [
    "### Dates and times."
   ]
  },
  {
   "cell_type": "code",
   "execution_count": 2,
   "metadata": {},
   "outputs": [
    {
     "data": {
      "text/plain": [
       "datetime.datetime(2019, 1, 18, 9, 53, 20)"
      ]
     },
     "execution_count": 2,
     "metadata": {},
     "output_type": "execute_result"
    }
   ],
   "source": [
    "from datetime import datetime, date, time\n",
    "\n",
    "# This creates a datetime object.\n",
    "dt = datetime(2019, 1, 18, 9, 53, 20)\n",
    "\n",
    "dt"
   ]
  },
  {
   "cell_type": "code",
   "execution_count": 3,
   "metadata": {},
   "outputs": [
    {
     "data": {
      "text/plain": [
       "datetime.time(9, 53, 20)"
      ]
     },
     "execution_count": 3,
     "metadata": {},
     "output_type": "execute_result"
    }
   ],
   "source": [
    "# This method tells us the time. \n",
    "dt.time()"
   ]
  },
  {
   "cell_type": "code",
   "execution_count": 4,
   "metadata": {},
   "outputs": [
    {
     "data": {
      "text/plain": [
       "datetime.date(2019, 1, 18)"
      ]
     },
     "execution_count": 4,
     "metadata": {},
     "output_type": "execute_result"
    }
   ],
   "source": [
    "# This method tells us the date.\n",
    "dt.date()"
   ]
  },
  {
   "cell_type": "markdown",
   "metadata": {},
   "source": [
    "The `strftime` method lets us format a datetime as a string:"
   ]
  },
  {
   "cell_type": "code",
   "execution_count": 5,
   "metadata": {},
   "outputs": [
    {
     "data": {
      "text/plain": [
       "'01/18/2019 09:53'"
      ]
     },
     "execution_count": 5,
     "metadata": {},
     "output_type": "execute_result"
    }
   ],
   "source": [
    "dt.strftime('%m/%d/%Y %H:%M')"
   ]
  },
  {
   "cell_type": "markdown",
   "metadata": {},
   "source": [
    "And of course we can go the other way with `strptime`"
   ]
  },
  {
   "cell_type": "code",
   "execution_count": 6,
   "metadata": {},
   "outputs": [
    {
     "data": {
      "text/plain": [
       "datetime.datetime(2009, 10, 31, 0, 0)"
      ]
     },
     "execution_count": 6,
     "metadata": {},
     "output_type": "execute_result"
    }
   ],
   "source": [
    "datetime.strptime('20091031', '%Y%m%d')"
   ]
  },
  {
   "cell_type": "code",
   "execution_count": 7,
   "metadata": {},
   "outputs": [
    {
     "data": {
      "text/plain": [
       "datetime.datetime(2019, 1, 18, 9, 0)"
      ]
     },
     "execution_count": 7,
     "metadata": {},
     "output_type": "execute_result"
    }
   ],
   "source": [
    "# The .replace() method could prove useful when aggregating datetime info.\n",
    "dt.replace(minute=0,second=0)"
   ]
  },
  {
   "cell_type": "code",
   "execution_count": 8,
   "metadata": {},
   "outputs": [
    {
     "data": {
      "text/plain": [
       "datetime.timedelta(2620, 41000)"
      ]
     },
     "execution_count": 8,
     "metadata": {},
     "output_type": "execute_result"
    }
   ],
   "source": [
    "# Finding the difference or 'change' between two datetime objects produces\n",
    "# a datetime.timedelta object:\n",
    "\n",
    "dt1 = datetime(2011, 11, 15, 22, 30)\n",
    "delta = dt - dt1\n",
    "delta"
   ]
  },
  {
   "cell_type": "markdown",
   "metadata": {},
   "source": [
    "(This output is in days + seconds)"
   ]
  },
  {
   "cell_type": "code",
   "execution_count": 9,
   "metadata": {},
   "outputs": [
    {
     "data": {
      "text/plain": [
       "numpy.datetime64('2019-01-27')"
      ]
     },
     "execution_count": 9,
     "metadata": {},
     "output_type": "execute_result"
    }
   ],
   "source": [
    "# I've seen this before, in a numpy exercise:\n",
    "\n",
    "import numpy as np\n",
    "\n",
    "today = np.datetime64('today', 'D')\n",
    "yesterday = today - np.timedelta64(1, 'D')\n",
    "yesterday"
   ]
  },
  {
   "cell_type": "markdown",
   "metadata": {},
   "source": [
    "Until just now I didn't realize what the `.timedelta()` was used for."
   ]
  },
  {
   "cell_type": "markdown",
   "metadata": {},
   "source": [
    "### Control Flow"
   ]
  },
  {
   "cell_type": "markdown",
   "metadata": {},
   "source": [
    "`break` differs from `continue` in that the former completely terminates the for loop that lives in, while continue just skips the remainder of the block on that single iteration. "
   ]
  },
  {
   "cell_type": "markdown",
   "metadata": {},
   "source": [
    "Just like `lambda` let's us collapse function definitions into a single line if they're short enough, ternary expressions let us do the same thing when if/else conditionals are short enough. \n",
    "\n",
    "Instead of:\n",
    "\n",
    "`\n",
    "x = 5\n",
    "\n",
    "if x >= 0:\n",
    "    print('Non-negative')\n",
    "else:\n",
    "    print('Negative')\n",
    "`\n",
    "\n",
    "We can have:\n",
    "`\n",
    "'Non-negative' if x >=0 else 'Negative'."
   ]
  },
  {
   "cell_type": "markdown",
   "metadata": {},
   "source": [
    "## Chapter 3 "
   ]
  },
  {
   "cell_type": "markdown",
   "metadata": {},
   "source": [
    "### Tuples "
   ]
  },
  {
   "cell_type": "code",
   "execution_count": 10,
   "metadata": {},
   "outputs": [
    {
     "data": {
      "text/plain": [
       "('s', 't', 'r', 'i', 'n', 'g')"
      ]
     },
     "execution_count": 10,
     "metadata": {},
     "output_type": "execute_result"
    }
   ],
   "source": [
    "#I've seen `list('abcde')` before, but never seen it done with a tuple:\n",
    "tup = tuple('string')\n",
    "tup"
   ]
  },
  {
   "cell_type": "code",
   "execution_count": 11,
   "metadata": {},
   "outputs": [
    {
     "data": {
      "text/plain": [
       "('string', 'two')"
      ]
     },
     "execution_count": 11,
     "metadata": {},
     "output_type": "execute_result"
    }
   ],
   "source": [
    "tup = tuple(['string', 'two'])\n",
    "tup"
   ]
  },
  {
   "cell_type": "code",
   "execution_count": 12,
   "metadata": {},
   "outputs": [
    {
     "ename": "TypeError",
     "evalue": "'tuple' object does not support item assignment",
     "output_type": "error",
     "traceback": [
      "\u001b[0;31m---------------------------------------------------------------------------\u001b[0m",
      "\u001b[0;31mTypeError\u001b[0m                                 Traceback (most recent call last)",
      "\u001b[0;32m<ipython-input-12-76a7605c2a14>\u001b[0m in \u001b[0;36m<module>\u001b[0;34m()\u001b[0m\n\u001b[1;32m      6\u001b[0m \u001b[0;34m\u001b[0m\u001b[0m\n\u001b[1;32m      7\u001b[0m \u001b[0;31m#This won't throw an error.\u001b[0m\u001b[0;34m\u001b[0m\u001b[0;34m\u001b[0m\u001b[0m\n\u001b[0;32m----> 8\u001b[0;31m \u001b[0mtup\u001b[0m\u001b[0;34m[\u001b[0m\u001b[0;36m2\u001b[0m\u001b[0;34m]\u001b[0m \u001b[0;34m=\u001b[0m \u001b[0;32mFalse\u001b[0m\u001b[0;34m\u001b[0m\u001b[0m\n\u001b[0m",
      "\u001b[0;31mTypeError\u001b[0m: 'tuple' object does not support item assignment"
     ]
    }
   ],
   "source": [
    "# It is not possible to modify a tuple, but the objects within a tuple \n",
    "# can be modified in-place if they're mutable. \n",
    "\n",
    "tup = tuple(['froo', [1,2,3], True])\n",
    "tup[1].append(4)\n",
    "\n",
    "#This won't throw an error. \n",
    "tup[2] = False "
   ]
  },
  {
   "cell_type": "markdown",
   "metadata": {},
   "source": [
    "As with strings tuples can be concatenated, and we can join many copies of a tuple together using the `*` operator."
   ]
  },
  {
   "cell_type": "code",
   "execution_count": null,
   "metadata": {},
   "outputs": [],
   "source": [
    "# Tuple unpacking is pretty cool:\n",
    "\n",
    "tup = (4,5,6)\n",
    "a,b,c = tup\n",
    "b\n",
    "\n",
    "# And can even be done with nested values!\n",
    "tup = (4,5,6,(7,8))\n",
    "a,b,c,(d,e) = tup\n",
    "\n",
    "# This allows for powerful, flexible operations to be done on tupled \n",
    "# sequences:\n",
    "\n",
    "seq = [(1,2,3), (4,5,6), (7,8,9)]\n",
    "for a,b,c in seq:\n",
    "    print(\"a={0}, b={1}, c={2}\".format(a,b,c))"
   ]
  },
  {
   "cell_type": "code",
   "execution_count": null,
   "metadata": {},
   "outputs": [],
   "source": [
    "# If we have a lengthy tuple and merely want to grab the first couple of \n",
    "# values in it we can get what we want and deal with the leftovers using\n",
    "# *. \n",
    "\n",
    "vals = 1,2,3,4,5,6,7,8\n",
    "a,b,c,*rest = vals\n",
    "\n",
    "# *rest is not a special or reserved term; in fact, the standard convention\n",
    "# is to do the above like this:\n",
    "\n",
    "vals = 1,2,3,4,5,6,7,8\n",
    "a,b,c,*_ = vals\n",
    "_"
   ]
  },
  {
   "cell_type": "markdown",
   "metadata": {},
   "source": [
    "I'm familiar with the distinction between a data structure like a list and an iterator, but here in this chapter is an excellent illustration of the difference. "
   ]
  },
  {
   "cell_type": "markdown",
   "metadata": {},
   "source": [
    "This doesn't return a list of values, it returns an iterator object:"
   ]
  },
  {
   "cell_type": "code",
   "execution_count": null,
   "metadata": {},
   "outputs": [],
   "source": [
    "gen = range(10)\n",
    "gen"
   ]
  },
  {
   "cell_type": "markdown",
   "metadata": {},
   "source": [
    "Here is how we concretize the iterator:"
   ]
  },
  {
   "cell_type": "code",
   "execution_count": null,
   "metadata": {},
   "outputs": [],
   "source": [
    "list(gen)"
   ]
  },
  {
   "cell_type": "markdown",
   "metadata": {},
   "source": [
    "`.append()`, `.insert()`, `.pop()`, and `.remove()` are all worth understanding well, as they give lists a lot of flexibility. All of this is computationally expensive, however, and better done on a large scale with other specialized data structures."
   ]
  },
  {
   "cell_type": "markdown",
   "metadata": {},
   "source": [
    "Lists can be concatenated, but this is expensive because it creates a new list and copies everything else over. `extend()`, however, avoids this because it modifies an existing list in place. \n",
    "\n",
    "`\n",
    "everything = []\n",
    "for chunk in some_list:\n",
    "    everything.extend(chunk)\n",
    "`\n",
    "\n",
    "is better than \n",
    "\n",
    "`\n",
    "everything = []\n",
    "for chunk in some_list:\n",
    "    everything += chunk\n",
    "`\n"
   ]
  },
  {
   "cell_type": "markdown",
   "metadata": {},
   "source": [
    "It's common to want to keep track of an elements location in a sequence, which is often accomplished by incrementing some placeholder variable like `i`. But `enumerate` offers another, quicker way to do the same thing. \n",
    "\n",
    "It's also useful for mapping the locations of various elements in a sequence:"
   ]
  },
  {
   "cell_type": "code",
   "execution_count": null,
   "metadata": {},
   "outputs": [],
   "source": [
    "some_list = ['foo', 'bar', 'baz']\n",
    "mapping = {}\n",
    "\n",
    "for i, v in enumerate(some_list):\n",
    "    mapping[v] = i\n",
    "    \n",
    "mapping"
   ]
  },
  {
   "cell_type": "markdown",
   "metadata": {},
   "source": [
    "If we wanted to create a dictionary from two sequences we could do something like this:"
   ]
  },
  {
   "cell_type": "code",
   "execution_count": null,
   "metadata": {},
   "outputs": [],
   "source": [
    "mapping = {}\n",
    "\n",
    "for key, value in zip(sequence_one, sequence_two):\n",
    "    mapping[key] = value "
   ]
  },
  {
   "cell_type": "markdown",
   "metadata": {},
   "source": [
    "Because a dictionary is basically a collection of 2-tuples we can actually make a dictionary with just a set of 2-tuples:"
   ]
  },
  {
   "cell_type": "code",
   "execution_count": null,
   "metadata": {},
   "outputs": [],
   "source": [
    "mapping = dict(zip(range(5), reversed(range(5))))"
   ]
  },
  {
   "cell_type": "code",
   "execution_count": null,
   "metadata": {},
   "outputs": [],
   "source": [
    "mapping"
   ]
  },
  {
   "cell_type": "markdown",
   "metadata": {},
   "source": [
    "Something relatively unwieldy like this:"
   ]
  },
  {
   "cell_type": "code",
   "execution_count": null,
   "metadata": {},
   "outputs": [],
   "source": [
    "# if key in some_dict:\n",
    "#     value = some_dict[key]\n",
    "# else:\n",
    "#     value = default_value"
   ]
  },
  {
   "cell_type": "markdown",
   "metadata": {},
   "source": [
    "Can be replaced by:"
   ]
  },
  {
   "cell_type": "code",
   "execution_count": null,
   "metadata": {},
   "outputs": [],
   "source": [
    "# value = some_dict.get(key, default_value)"
   ]
  },
  {
   "cell_type": "markdown",
   "metadata": {},
   "source": [
    "Another example:"
   ]
  },
  {
   "cell_type": "code",
   "execution_count": null,
   "metadata": {},
   "outputs": [],
   "source": [
    "words = ['apple', 'bat', 'bar', 'atom', 'book']\n",
    "by_letter = {}\n",
    "\n",
    "for word in words:\n",
    "    letter = word[0]\n",
    "    if letter not in by_letter:\n",
    "        by_letter[letter] = [word] # We want it to be a list, not just the word. \n",
    "    else:\n",
    "        by_letter[letter].append(word)"
   ]
  },
  {
   "cell_type": "markdown",
   "metadata": {},
   "source": [
    "Can be replaced with: "
   ]
  },
  {
   "cell_type": "code",
   "execution_count": null,
   "metadata": {},
   "outputs": [],
   "source": [
    "for word in words:\n",
    "    letter = word[0]\n",
    "    by_letter.setdefault(letter, []).append(word)\n",
    "    \n",
    "by_letter"
   ]
  },
  {
   "cell_type": "markdown",
   "metadata": {},
   "source": [
    "Which can be compressed even more with the `defaultdict` method from `collections`:"
   ]
  },
  {
   "cell_type": "code",
   "execution_count": null,
   "metadata": {},
   "outputs": [],
   "source": [
    "from collections import defaultdict\n",
    "\n",
    "by_letter = defaultdict(list)\n",
    "for word in words:\n",
    "    by_letter[word[0]].append(word)\n",
    "    "
   ]
  },
  {
   "cell_type": "markdown",
   "metadata": {},
   "source": [
    "Sets are unordered and all the basic set-theoretic operations can be done on them. For each of these operations there exists an in-place variant that replaces the contents of the leftward set with the result of the computation:"
   ]
  },
  {
   "cell_type": "code",
   "execution_count": null,
   "metadata": {},
   "outputs": [],
   "source": [
    "a={1,2,3,4,5}\n",
    "b={3,4,5,6,7,8}\n",
    "\n",
    "a &= b\n",
    "a"
   ]
  },
  {
   "cell_type": "markdown",
   "metadata": {},
   "source": [
    "Which can also be done with set methods:"
   ]
  },
  {
   "cell_type": "code",
   "execution_count": null,
   "metadata": {},
   "outputs": [],
   "source": [
    "a={1,2,3,4,5}\n",
    "b={3,4,5,6,7,8}\n",
    "\n",
    "a.intersection_update(b) # is equivalent to a &= b"
   ]
  },
  {
   "cell_type": "markdown",
   "metadata": {},
   "source": [
    "It is possible to add non-scalar elements to sets, but they must be immutable. Given a list, we could add it to a set by making it into a tuple."
   ]
  },
  {
   "cell_type": "code",
   "execution_count": null,
   "metadata": {},
   "outputs": [],
   "source": [
    "my_data = [1,2,3,4]\n",
    "my_set = {tuple(my_data)}\n",
    "my_set"
   ]
  },
  {
   "cell_type": "code",
   "execution_count": null,
   "metadata": {},
   "outputs": [],
   "source": [
    "# List, dict, and set comprehensions are powerful, flexible features of Python. \n",
    "\n",
    "# listcomp\n",
    "strings = ['a', 'as', 'bat', 'car', 'dove', 'python']\n",
    "big_str = [x.upper() for x in strings if len(x) >= 2]\n",
    "\n",
    "# dict comp\n",
    "dict_loc = {val: index for index, val in enumerate(strings)}\n",
    "print(dict_loc)\n",
    "\n",
    "# set comp\n",
    "unique_lengths = {len(x) for x in strings}"
   ]
  },
  {
   "cell_type": "code",
   "execution_count": null,
   "metadata": {},
   "outputs": [],
   "source": [
    "# We could replace this set comprehension with the .map() function\n",
    "\n",
    "unique_len_map = set(map(len, strings))\n",
    "unique_len_map"
   ]
  },
  {
   "cell_type": "code",
   "execution_count": null,
   "metadata": {},
   "outputs": [],
   "source": [
    "# List comprehensions can be nested, and the for loops are arranged the same way they would be \n",
    "# if they were written as actual nested for loops.\n",
    "\n",
    "some_tuples = [(1,2,3),(4,5,6),(7,8,9)]\n",
    "flattened = [x for tup in some_tuples for x in tup]\n",
    "flattened"
   ]
  },
  {
   "cell_type": "code",
   "execution_count": null,
   "metadata": {},
   "outputs": [],
   "source": [
    "# In some programming languages it isn't possible to return multiple values, but it is in python.\n",
    "\n",
    "def func():\n",
    "    a = 5\n",
    "    b = 6\n",
    "    c = 7\n",
    "    return a,b,c\n",
    "\n",
    "# Which allows us to do this:\n",
    "\n",
    "a,b,c = func()\n",
    "\n",
    "# We might want to do the same thing with a dictionary:\n",
    "\n",
    "def func():\n",
    "    a = 5\n",
    "    b = 6\n",
    "    c = 7\n",
    "    return {'a': a, 'b': b, 'c': c}\n",
    "\n",
    "# Either approach could be useful, depending on what we're after. "
   ]
  },
  {
   "cell_type": "code",
   "execution_count": null,
   "metadata": {},
   "outputs": [],
   "source": [
    "# In python, everything is an object, which should inform how we approach data-cleaning tasks. \n",
    "# Say we have the following messy user-submitted data:\n",
    "\n",
    "states = ['   Alabama ', 'Georgia!', 'Georgia', 'georgia', 'FlOrIda',\n",
    "          'south   carolina##', 'West virginia?']\n",
    "\n",
    "# One klunky way of fixing this would be to use regular expressions and a bunch of assignments \n",
    "# to clean things:\n",
    "\n",
    "import re \n",
    "\n",
    "def clean_strings(strings):\n",
    "    result = []\n",
    "    for value in strings:\n",
    "        value = value.strip() # a built-in string method \n",
    "        value = re.sub('[!#?]', '', value)\n",
    "        value = value.title() # must be built-in, never seen it before.\n",
    "        result.append(value)\n",
    "    return result \n",
    "\n",
    "print(clean_strings(states))"
   ]
  },
  {
   "cell_type": "code",
   "execution_count": null,
   "metadata": {},
   "outputs": [],
   "source": [
    "# There must surely be a better way...\n",
    "\n",
    "states = ['   Alabama ', 'Georgia!', 'Georgia', 'georgia', 'FlOrIda',\n",
    "          'south   carolina##', 'West virginia?']\n",
    "\n",
    "def remove_punctuation(value):\n",
    "    return re.sub('[!#?]','', value)\n",
    "\n",
    "clean_ops = [str.strip, remove_punctuation, str.title]\n",
    "\n",
    "def clean_strings(strings, ops):\n",
    "    result = []\n",
    "    for value in strings:\n",
    "        for function in ops:\n",
    "            value = function(value)\n",
    "        result.append(value)\n",
    "    return result\n",
    "\n",
    "print(clean_strings(states, clean_ops))"
   ]
  },
  {
   "cell_type": "markdown",
   "metadata": {},
   "source": [
    "Ultimately these are equivalent, but the second gives us a great deal of \n",
    "control over how our inputs are formatted at a high level. "
   ]
  },
  {
   "cell_type": "markdown",
   "metadata": {},
   "source": [
    "Lambda functions are also called anonymous functions because that's what they are. Instead of writing out a whole function with a name we have a syntax for making really simple functions on the fly. \n",
    "\n",
    "Even better, many Python functions will take functions like `lambda` as arguments, which enables all kinds of flexibility. "
   ]
  },
  {
   "cell_type": "code",
   "execution_count": null,
   "metadata": {},
   "outputs": [],
   "source": [
    "def apply_to_list(some_list, f):\n",
    "    return [f(x) for x in some_list]\n",
    "\n",
    "# And then...\n",
    "\n",
    "ints = [1,2,3,4,5]\n",
    "apply_to_list(ints, lambda x: x * 2)"
   ]
  },
  {
   "cell_type": "code",
   "execution_count": null,
   "metadata": {},
   "outputs": [],
   "source": [
    "# Or say we want to pass lambda to the sort() string method to sort a list \n",
    "# of strings by the number of distinct characters they contain. \n",
    "\n",
    "strings = ['foo', 'card', 'bar', 'aaaa', 'abab']\n",
    "# sorted_strs = strings.sort(key=lambda x: len(set(list(x)))) This won't \n",
    "# work because it's operating in place, thereby returning None automatically.\n",
    "\n",
    "strings"
   ]
  },
  {
   "cell_type": "markdown",
   "metadata": {},
   "source": [
    "Currying is deriving new functions from the partial application of existing functions. For example:"
   ]
  },
  {
   "cell_type": "code",
   "execution_count": null,
   "metadata": {},
   "outputs": [],
   "source": [
    "def add_num(x,y):\n",
    "    return x + y\n",
    "\n",
    "# Now we can get a new function by partially applying the add_num function\n",
    "\n",
    "add_five = lambda y: add_numbers(5, y)\n",
    "\n",
    "# In this example 'y' is said to be curried. Naturally, the 'partial' \n",
    "# function from functools gives us a more straightforward way of doing this. \n",
    "\n",
    "from functools import partial \n",
    "\n",
    "add_five = partial(add_num, 5)"
   ]
  },
  {
   "cell_type": "markdown",
   "metadata": {},
   "source": [
    "#### Generators "
   ]
  },
  {
   "cell_type": "markdown",
   "metadata": {},
   "source": [
    "Having a concise way to represent iterables is an important feature of Python. A generator is just a way of constructing an iterable which yields objects to the Python interpreter 'lazily' -- one at a time, pausing after each until the next is requested. \n",
    "\n",
    "These are usually built with the `yield` keyword:"
   ]
  },
  {
   "cell_type": "code",
   "execution_count": null,
   "metadata": {},
   "outputs": [],
   "source": [
    "def squares(n=10):\n",
    "    for i in range(1, n + 1):\n",
    "        yield i**2"
   ]
  },
  {
   "cell_type": "code",
   "execution_count": null,
   "metadata": {},
   "outputs": [],
   "source": [
    "squares() # Note that this doesn't work like a regular function. "
   ]
  },
  {
   "cell_type": "code",
   "execution_count": null,
   "metadata": {},
   "outputs": [],
   "source": [
    "gen = squares()\n",
    "for x in gen:\n",
    "    print(x, end = ' ')"
   ]
  },
  {
   "cell_type": "code",
   "execution_count": null,
   "metadata": {},
   "outputs": [],
   "source": [
    "# A generator expression makes this even more concise. To build one, simply \n",
    "# make a list comprehension but enclose it in parentheses as opposed to \n",
    "# brackets. \n",
    "\n",
    "gen = (x**2 for x in range(100))"
   ]
  },
  {
   "cell_type": "code",
   "execution_count": null,
   "metadata": {},
   "outputs": [],
   "source": [
    "# Generator expressions have a lot of power, and can be used in many places \n",
    "# where we otherwise might have to write out a more verbose function or \n",
    "# store a data structure in memory. \n",
    "\n",
    "sum(x**2 for x in range(100))"
   ]
  },
  {
   "cell_type": "code",
   "execution_count": null,
   "metadata": {},
   "outputs": [],
   "source": [
    "dict((i, i**2) for i in range(5))"
   ]
  },
  {
   "cell_type": "markdown",
   "metadata": {},
   "source": [
    "#### itertools "
   ]
  },
  {
   "cell_type": "markdown",
   "metadata": {},
   "source": [
    "Itertools is a big fat built-in module filled with generator tools for all sorts of common algorithms. "
   ]
  },
  {
   "cell_type": "code",
   "execution_count": null,
   "metadata": {},
   "outputs": [],
   "source": [
    "import itertools\n",
    "\n",
    "first_letter = lambda x: x[0]\n",
    "names = ['Alan', 'Adam', 'Wes', 'Will', 'Albert', 'Steven']\n",
    "\n",
    "for letter, names in itertools.groupby(names, first_letter):\n",
    "    print(letter, list(names))"
   ]
  },
  {
   "cell_type": "code",
   "execution_count": null,
   "metadata": {},
   "outputs": [],
   "source": [
    "letters = list('abcdefghijklmnopqrstuvwxyz')\n",
    "letters\n",
    "for el in itertools.combinations(letters, 3):\n",
    "    print(el)"
   ]
  },
  {
   "cell_type": "code",
   "execution_count": null,
   "metadata": {},
   "outputs": [],
   "source": [
    "letters = list('abcdefghijklmnopqrstuvwxyz')\n",
    "letters\n",
    "for el in itertools.permutations(letters, 3):\n",
    "    print(el)"
   ]
  },
  {
   "cell_type": "markdown",
   "metadata": {},
   "source": [
    "#### Exception Handling "
   ]
  },
  {
   "cell_type": "markdown",
   "metadata": {},
   "source": [
    "Python affords us lots of ways of dealing with errors. Though Python natively throws errors when someone makes a mistake, it's also possible to build a more nuanced approach:"
   ]
  },
  {
   "cell_type": "code",
   "execution_count": null,
   "metadata": {},
   "outputs": [],
   "source": [
    "float('1.234') # works "
   ]
  },
  {
   "cell_type": "code",
   "execution_count": null,
   "metadata": {},
   "outputs": [],
   "source": [
    "float('not a float') # doesn't"
   ]
  },
  {
   "cell_type": "code",
   "execution_count": null,
   "metadata": {},
   "outputs": [],
   "source": [
    "# If instead we'd like to return the value:\n",
    "\n",
    "def attempt_float(x):\n",
    "    try:\n",
    "        return float(x)\n",
    "    except:\n",
    "        return x\n",
    "    \n",
    "attempt_float('1.234') # works"
   ]
  },
  {
   "cell_type": "code",
   "execution_count": null,
   "metadata": {},
   "outputs": [],
   "source": [
    "attempt_float('not a float') # doesn't, but now returns the original value."
   ]
  },
  {
   "cell_type": "markdown",
   "metadata": {},
   "source": [
    "The above functionality probably doesn't matter a whole lot when writing 10 lines of code, but I imagine it ends up being important later on down the road. "
   ]
  },
  {
   "cell_type": "code",
   "execution_count": null,
   "metadata": {},
   "outputs": [],
   "source": [
    "# 'float' can throw more than one kind of error.\n",
    "\n",
    "float((1,2))"
   ]
  },
  {
   "cell_type": "code",
   "execution_count": null,
   "metadata": {},
   "outputs": [],
   "source": [
    "# And we can specify one or more error types in the 'except' part.\n",
    "\n",
    "def attempt_float(x):\n",
    "    try:\n",
    "        float(x)\n",
    "    except ValueError:\n",
    "        return x\n",
    "\n",
    "# Or\n",
    "\n",
    "def attempt_float(x):\n",
    "    try:\n",
    "        float(x)\n",
    "    except (TypeError, ValueError):\n",
    "        return x"
   ]
  },
  {
   "cell_type": "code",
   "execution_count": null,
   "metadata": {},
   "outputs": [],
   "source": [
    "# With 'else' and 'finally' we can get more nuance still:\n",
    "\n",
    "f = open(path, 'w')\n",
    "\n",
    "try:\n",
    "    write_to_file(f)\n",
    "except:\n",
    "    print('Failed')\n",
    "else:\n",
    "    print('Succeeded')\n",
    "finally:\n",
    "    f.close()\n",
    "    \n",
    "# Whatever comes after 'finally' will always be executed, regardless of \n",
    "# happens in the try/except block. "
   ]
  },
  {
   "cell_type": "markdown",
   "metadata": {},
   "source": [
    "Numpy is built for fast processing of data housed in containers like N-dimensional Arrays or 'ndarrays'. All data are placed in contiguous blocks of memory, increasing speed by reducing computational overhead, and operations like multiplying every element by 2 can be done with the same syntax as would be appropriate for scalars."
   ]
  },
  {
   "cell_type": "markdown",
   "metadata": {},
   "source": [
    "Numpy tends to modify arrays in place a lot more often than general Python does. This makes sense given that Numpy is meant to work on large arrays of data.  "
   ]
  },
  {
   "cell_type": "markdown",
   "metadata": {},
   "source": [
    "We have lots of ways of slicing and indexing into our arrays. Take the following example:"
   ]
  },
  {
   "cell_type": "code",
   "execution_count": null,
   "metadata": {},
   "outputs": [],
   "source": [
    "import numpy as np\n",
    "\n",
    "names = np.array(['Bob', 'Joe', 'Will', 'Bob', 'Will', 'Joe', 'Joe'])\n",
    "data = np.random.randn(7,4)"
   ]
  },
  {
   "cell_type": "code",
   "execution_count": null,
   "metadata": {},
   "outputs": [],
   "source": [
    "# Here, we're imagining that there's some connection between 'names' and \n",
    "# data, that the rows in data correspond to names. If we want to grab the \n",
    "# information pertinent to 'Bob'. \n",
    "\n",
    "data[names == 'Bob']"
   ]
  },
  {
   "cell_type": "code",
   "execution_count": null,
   "metadata": {},
   "outputs": [],
   "source": [
    "# We can pile on further indexing to get just some columns and not others. \n",
    "\n",
    "data[names == 'Bob', 2:]"
   ]
  },
  {
   "cell_type": "code",
   "execution_count": null,
   "metadata": {},
   "outputs": [],
   "source": [
    "# And we can just those values which do not pertain to Bob with a ~\n",
    "\n",
    "data[~(names == 'Bob')]"
   ]
  },
  {
   "cell_type": "code",
   "execution_count": null,
   "metadata": {},
   "outputs": [],
   "source": [
    "# Or more generally and concisely:\n",
    "\n",
    "cond = names == 'Bob'\n",
    "data[~cond]"
   ]
  },
  {
   "cell_type": "code",
   "execution_count": null,
   "metadata": {},
   "outputs": [],
   "source": [
    "# A more complicated 'masking' procedure can also be employed. \n",
    "\n",
    "mask = (names == 'Bob') | (names == 'Will')\n",
    "data[~mask]"
   ]
  },
  {
   "cell_type": "code",
   "execution_count": null,
   "metadata": {},
   "outputs": [],
   "source": [
    "# And assignment works as well \n",
    "\n",
    "data[names != 'Joe'] = 7"
   ]
  },
  {
   "cell_type": "code",
   "execution_count": null,
   "metadata": {},
   "outputs": [],
   "source": [
    "data"
   ]
  },
  {
   "cell_type": "code",
   "execution_count": null,
   "metadata": {},
   "outputs": [],
   "source": [
    "# Fancy indexing refers to indexing with an array of integers, and \n",
    "# gives us the power to do things like get rows out of order. \n",
    "\n",
    "arr = np.empty((8,4))\n",
    "for i in range(8):\n",
    "    arr[i] = i\n",
    "\n",
    "arr\n",
    "arr[[4,3,0,6]] # Note, these aren't in order. "
   ]
  },
  {
   "cell_type": "code",
   "execution_count": null,
   "metadata": {},
   "outputs": [],
   "source": [
    "# And it works in reverse.\n",
    "\n",
    "arr[[-5, -7, -3]]"
   ]
  },
  {
   "cell_type": "code",
   "execution_count": null,
   "metadata": {},
   "outputs": [],
   "source": [
    "# Passing in multiple arrays does something a bit different, creating \n",
    "# index tuples from the respective elements of each array and indexing \n",
    "# into the original data structure. \n",
    "\n",
    "arr = np.arange(32).reshape((8,4))\n",
    "arr[[1,5,7,2], [0,3,1,2]]"
   ]
  },
  {
   "cell_type": "code",
   "execution_count": null,
   "metadata": {},
   "outputs": [],
   "source": [
    "# What this does is basically stack the two arrays:\n",
    "\n",
    "# [1,5,7,2]\n",
    "# [0,3,1,2]\n",
    "\n",
    "# Creating index tuples: (1,0), (5,3), etc., and grabs the values at those \n",
    "# indices. "
   ]
  },
  {
   "cell_type": "code",
   "execution_count": null,
   "metadata": {},
   "outputs": [],
   "source": [
    "# Transpose let's you switch rows and columns, and comes in handy for lots \n",
    "# of basic linear algebra stuff. \n",
    "\n",
    "arr = np.random.randn(6,3)\n",
    "\n",
    "# Like finding the inner dot product:\n",
    "np.dot(arr.T, arr)"
   ]
  },
  {
   "cell_type": "code",
   "execution_count": null,
   "metadata": {},
   "outputs": [],
   "source": [
    "# Incredibly, transpose accepts tuple arguments so that we may select which \n",
    "# axis to mess with (but we have to write .transpose(), to .T)\n",
    "\n",
    "arr = np.arange(16).reshape((2,2,4))\n",
    "arr.transpose((1,0,2))"
   ]
  },
  {
   "cell_type": "code",
   "execution_count": null,
   "metadata": {},
   "outputs": [],
   "source": [
    "# .T is really a special example of the more general .swapaxes(), which\n",
    "# takes arguments telling us which axes to swap. \n",
    "\n",
    "arr = np.arange(16).reshape((2,2,4))\n",
    "arr.swapaxes(1,2)"
   ]
  },
  {
   "cell_type": "markdown",
   "metadata": {},
   "source": [
    "#### Universal Functions "
   ]
  },
  {
   "cell_type": "markdown",
   "metadata": {},
   "source": [
    "Numpy let's us do element-wise operations on arrays. A `ufunc` or 'unary function' is another name for this. A binary function like `.maximum()` takes two arrays and returns another array containing whichever of the two values was the largest."
   ]
  },
  {
   "cell_type": "code",
   "execution_count": 13,
   "metadata": {},
   "outputs": [
    {
     "data": {
      "text/plain": [
       "array([ 4.09878789,  2.35040104, -8.12663934, -0.07948548,  9.39415935,\n",
       "        8.04629458, -0.78241837])"
      ]
     },
     "execution_count": 13,
     "metadata": {},
     "output_type": "execute_result"
    }
   ],
   "source": [
    "# It isn't very common, but a ufunc can return multiple arrays, like \n",
    "# .modf(), which gives us the integer and fractional part of an array \n",
    "# of floating-point numbers. \n",
    "\n",
    "arr = np.random.randn(7) * 5\n",
    "arr"
   ]
  },
  {
   "cell_type": "code",
   "execution_count": 14,
   "metadata": {},
   "outputs": [
    {
     "data": {
      "text/plain": [
       "array([ 0.09878789,  0.35040104, -0.12663934, -0.07948548,  0.39415935,\n",
       "        0.04629458, -0.78241837])"
      ]
     },
     "execution_count": 14,
     "metadata": {},
     "output_type": "execute_result"
    }
   ],
   "source": [
    "remainder, whole = np.modf(arr)\n",
    "remainder"
   ]
  },
  {
   "cell_type": "code",
   "execution_count": 15,
   "metadata": {},
   "outputs": [
    {
     "data": {
      "text/plain": [
       "array([ 4.,  2., -8., -0.,  9.,  8., -0.])"
      ]
     },
     "execution_count": 15,
     "metadata": {},
     "output_type": "execute_result"
    }
   ],
   "source": [
    "whole"
   ]
  },
  {
   "cell_type": "markdown",
   "metadata": {},
   "source": [
    "#### Array-Oriented Programming with Arrays "
   ]
  },
  {
   "cell_type": "code",
   "execution_count": 16,
   "metadata": {},
   "outputs": [],
   "source": [
    "points = np.arange(-5, 5, .01)\n",
    "xs,ys = np.meshgrid(points, points)\n",
    "z = np.sqrt(xs ** 2 + ys ** 2)"
   ]
  },
  {
   "cell_type": "code",
   "execution_count": 17,
   "metadata": {},
   "outputs": [],
   "source": [
    "import matplotlib.pyplot as plt"
   ]
  },
  {
   "cell_type": "code",
   "execution_count": 20,
   "metadata": {},
   "outputs": [
    {
     "data": {
      "text/plain": [
       "<matplotlib.colorbar.Colorbar at 0xa23112dd8>"
      ]
     },
     "execution_count": 20,
     "metadata": {},
     "output_type": "execute_result"
    }
   ],
   "source": [
    "plt.imshow(z, cmap = plt.cm.gray); plt.colorbar()"
   ]
  },
  {
   "cell_type": "code",
   "execution_count": 21,
   "metadata": {},
   "outputs": [
    {
     "data": {
      "text/plain": [
       "Text(0.5, 1.0, 'Image plot of $\\\\sqrt{x^2 + y^2}$ for a grid of values')"
      ]
     },
     "execution_count": 21,
     "metadata": {},
     "output_type": "execute_result"
    }
   ],
   "source": [
    "plt.title(\"Image plot of $\\sqrt{x^2 + y^2}$ for a grid of values\")"
   ]
  },
  {
   "cell_type": "code",
   "execution_count": 22,
   "metadata": {},
   "outputs": [
    {
     "data": {
      "image/png": "[encoded data removed]",
      "text/plain": [
       "<Figure size 432x288 with 2 Axes>"
      ]
     },
     "metadata": {},
     "output_type": "display_data"
    }
   ],
   "source": [
    "plt.show()"
   ]
  },
  {
   "cell_type": "code",
   "execution_count": 23,
   "metadata": {},
   "outputs": [],
   "source": [
    "# Numpy has numerous advantages when working with large arrays or multidimensional arrays. \n",
    "# For example, consider the following:\n",
    "\n",
    "xarr = [1.1, 1.2, 1.3, 1.4, 1.5]\n",
    "yarr = [2.1, 2.2, 2.3, 2.4, 2.5]\n",
    "cond = [True, False, True, True, False]\n",
    "\n",
    "# Imagine that we want to get a value from xarr when cond is True and a value from yarr other\n",
    "# wise. With a standard python list comprehension:\n",
    "\n",
    "result = [(x if c else y) for x,y,c in zip(xarr, yarr, cond)]\n",
    "\n",
    "# This would be slow for larger arrays and wouldn't work at all for multidimensional ones. Luckily,\n",
    "# numpy has us covered:\n",
    "\n",
    "result_where = np.where(cond, xarr, yarr)"
   ]
  },
  {
   "cell_type": "code",
   "execution_count": 24,
   "metadata": {},
   "outputs": [
    {
     "data": {
      "text/plain": [
       "[1.1, 2.2, 1.3, 1.4, 2.5]"
      ]
     },
     "execution_count": 24,
     "metadata": {},
     "output_type": "execute_result"
    }
   ],
   "source": [
    "result"
   ]
  },
  {
   "cell_type": "code",
   "execution_count": 25,
   "metadata": {},
   "outputs": [
    {
     "data": {
      "text/plain": [
       "array([1.1, 2.2, 1.3, 1.4, 2.5])"
      ]
     },
     "execution_count": 25,
     "metadata": {},
     "output_type": "execute_result"
    }
   ],
   "source": [
    "result_where"
   ]
  },
  {
   "cell_type": "code",
   "execution_count": 26,
   "metadata": {},
   "outputs": [
    {
     "data": {
      "text/plain": [
       "array([[ 2,  2, -2, -2],\n",
       "       [-2, -2,  2,  2],\n",
       "       [-2,  2,  2,  2],\n",
       "       [-2, -2, -2,  2]])"
      ]
     },
     "execution_count": 26,
     "metadata": {},
     "output_type": "execute_result"
    }
   ],
   "source": [
    "# Where has other uses. We can use it to build a new array on the basis of values from an old \n",
    "# one. Say we wanted to replace all the negative values in an array with -2 and all positive \n",
    "# values with 2\n",
    "\n",
    "arr = np.random.randn(4,4)\n",
    "np.where(arr > 0, 2, -2)"
   ]
  },
  {
   "cell_type": "code",
   "execution_count": 27,
   "metadata": {},
   "outputs": [
    {
     "data": {
      "text/plain": [
       "array([[ 2.        ,  2.        , -0.31185307, -0.81156794],\n",
       "       [ 2.        , -1.45480687,  2.        , -2.05435003],\n",
       "       [-0.14805388,  2.        ,  2.        , -2.16477893],\n",
       "       [-0.28174469, -0.37521509, -0.89164988,  2.        ]])"
      ]
     },
     "execution_count": 27,
     "metadata": {},
     "output_type": "execute_result"
    }
   ],
   "source": [
    "# Or, we could just do the positive values:\n",
    "\n",
    "arr = np.random.randn(4,4)\n",
    "np.where(arr > 0, 2, arr)"
   ]
  },
  {
   "cell_type": "markdown",
   "metadata": {},
   "source": [
    "As befits a package devoted to scientific computing, numpy has numerous ways of calculation statistics on arrays. Methods like `.mean()` can either be called on an array: `arr.mean()` or by passing the array into numpy as an argument: `np.mean(arr)`. \n",
    "\n",
    "Many of these also take an optional axis argument, which allows them to calculate on either rows or columns, as opposed to the entire array. "
   ]
  },
  {
   "cell_type": "code",
   "execution_count": 28,
   "metadata": {},
   "outputs": [
    {
     "data": {
      "text/plain": [
       "50"
      ]
     },
     "execution_count": 28,
     "metadata": {},
     "output_type": "execute_result"
    }
   ],
   "source": [
    "# We can use .sum() to do useful things like count Booleans.\n",
    "\n",
    "arr = np.random.randn(100)\n",
    "(arr > 0).sum()"
   ]
  },
  {
   "cell_type": "code",
   "execution_count": 29,
   "metadata": {},
   "outputs": [
    {
     "data": {
      "text/plain": [
       "(True, False)"
      ]
     },
     "execution_count": 29,
     "metadata": {},
     "output_type": "execute_result"
    }
   ],
   "source": [
    "# Moreover, the .any() and .all() methods check whether there are any True values in an array \n",
    "# and whether all are True, respectively. \n",
    "\n",
    "bools = np.array([True, False, False, True])\n",
    "bools.any(), bools.all()"
   ]
  },
  {
   "cell_type": "code",
   "execution_count": 30,
   "metadata": {},
   "outputs": [
    {
     "data": {
      "text/plain": [
       "(False, False, True, True)"
      ]
     },
     "execution_count": 30,
     "metadata": {},
     "output_type": "execute_result"
    }
   ],
   "source": [
    "# Neither is limited to Boolean arrays. When used elsewhere non-zero elements are equivalent to \n",
    "# True. \n",
    "\n",
    "arr_zers = np.zeros(10)\n",
    "arr_ones = np.ones(10)\n",
    "arr_zers.any(), arr_zers.all(), arr_ones.any(), arr_ones.all()"
   ]
  },
  {
   "cell_type": "code",
   "execution_count": 31,
   "metadata": {},
   "outputs": [
    {
     "data": {
      "text/plain": [
       "-0.462555736140001"
      ]
     },
     "execution_count": 31,
     "metadata": {},
     "output_type": "execute_result"
    }
   ],
   "source": [
    "# We can find the given percentile of an array using sort:\n",
    "\n",
    "large_arr = np.random.randn(1000)\n",
    "large_arr.sort\n",
    "large_arr[int(.05 * len(large_arr))]"
   ]
  },
  {
   "cell_type": "code",
   "execution_count": 32,
   "metadata": {},
   "outputs": [
    {
     "name": "stdout",
     "output_type": "stream",
     "text": [
      "920 ms ± 111 ms per loop (mean ± std. dev. of 7 runs, 1 loop each)\n"
     ]
    }
   ],
   "source": [
    "# Numpy's own random module does a much better job than python's built-in \n",
    "# version for a variety of tasks, and it's quicker. \n",
    "\n",
    "from random import normalvariate\n",
    "\n",
    "N = 1000000\n",
    "\n",
    "%timeit samples = [normalvariate(0,1) for _ in range(N)]"
   ]
  },
  {
   "cell_type": "code",
   "execution_count": 33,
   "metadata": {},
   "outputs": [
    {
     "name": "stdout",
     "output_type": "stream",
     "text": [
      "35.7 ms ± 55.5 µs per loop (mean ± std. dev. of 7 runs, 10 loops each)\n"
     ]
    }
   ],
   "source": [
    "%timeit np.random.normal(size=N)"
   ]
  },
  {
   "cell_type": "code",
   "execution_count": null,
   "metadata": {},
   "outputs": [],
   "source": [
    "# I've seen np.random.seed() all over the place. I still don't entirely \n",
    "# understand what it does, but evidently it changes the seed with which \n",
    "# numpy's random number generating algorithm starts. "
   ]
  },
  {
   "cell_type": "code",
   "execution_count": 34,
   "metadata": {},
   "outputs": [],
   "source": [
    "# Implementing a random walk in pure python. \n",
    "\n",
    "import random \n",
    "\n",
    "position = 0\n",
    "walk = [position]\n",
    "steps = 1000\n",
    "\n",
    "for i in range(steps):\n",
    "    step = 1 if random.randint(0,1) else -1\n",
    "    position += step \n",
    "    walk.append(position)"
   ]
  },
  {
   "cell_type": "code",
   "execution_count": 35,
   "metadata": {},
   "outputs": [
    {
     "data": {
      "image/png": "[encoded data removed]",
      "text/plain": [
       "<Figure size 432x288 with 1 Axes>"
      ]
     },
     "metadata": {},
     "output_type": "display_data"
    }
   ],
   "source": [
    "plt.plot(walk[:100])\n",
    "plt.show()"
   ]
  },
  {
   "cell_type": "code",
   "execution_count": 39,
   "metadata": {},
   "outputs": [
    {
     "data": {
      "text/plain": [
       "34"
      ]
     },
     "execution_count": 39,
     "metadata": {},
     "output_type": "execute_result"
    }
   ],
   "source": [
    "# The point at which the random walk got 10 steps away from the origin in \n",
    "# either direction. \n",
    "(np.abs(walk) >= 10).argmax()"
   ]
  },
  {
   "cell_type": "code",
   "execution_count": 42,
   "metadata": {},
   "outputs": [
    {
     "data": {
      "text/plain": [
       "array([[ -1,   0,   1, ...,   0,   1,   0],\n",
       "       [ -1,   0,  -1, ...,  68,  69,  70],\n",
       "       [  1,   2,   1, ..., -26, -27, -26],\n",
       "       ...,\n",
       "       [  1,   0,  -1, ...,  -8,  -9, -10],\n",
       "       [ -1,  -2,  -1, ...,  28,  29,  30],\n",
       "       [  1,   0,  -1, ..., -74, -75, -76]])"
      ]
     },
     "execution_count": 42,
     "metadata": {},
     "output_type": "execute_result"
    }
   ],
   "source": [
    "# Imagine that we wanted to compute 5000 random walks all at once. \n",
    "\n",
    "nwalks = 5000\n",
    "nsteps = 1000\n",
    "draws = np.random.randint(0,2,size=(nwalks, nsteps))\n",
    "steps = np.where(draws > 0, 1, -1)\n",
    "walks = steps.cumsum(1)\n",
    "walks"
   ]
  },
  {
   "cell_type": "code",
   "execution_count": 44,
   "metadata": {},
   "outputs": [
    {
     "data": {
      "text/plain": [
       "3359"
      ]
     },
     "execution_count": 44,
     "metadata": {},
     "output_type": "execute_result"
    }
   ],
   "source": [
    "# Let's do some tricks with this. Say we want to figure out how many and \n",
    "# which arrays reached 30 steps away from the origin in either direction. \n",
    "\n",
    "hits30 = (np.abs(walks) >= 30).any(1)\n",
    "\n",
    "# Now, find the number that hit 30\n",
    "hits30.sum()"
   ]
  },
  {
   "cell_type": "markdown",
   "metadata": {},
   "source": [
    "#### Pandas  "
   ]
  },
  {
   "cell_type": "code",
   "execution_count": null,
   "metadata": {},
   "outputs": [],
   "source": []
  }
 ],
 "metadata": {
  "kernelspec": {
   "display_name": "Python 3",
   "language": "python",
   "name": "python3"
  },
  "language_info": {
   "codemirror_mode": {
    "name": "ipython",
    "version": 3
   },
   "file_extension": ".py",
   "mimetype": "text/x-python",
   "name": "python",
   "nbconvert_exporter": "python",
   "pygments_lexer": "ipython3",
   "version": "3.6.6"
  }
 },
 "nbformat": 4,
 "nbformat_minor": 2
}
