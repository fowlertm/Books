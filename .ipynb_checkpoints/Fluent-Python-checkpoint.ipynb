{
 "cells": [
  {
   "cell_type": "markdown",
   "metadata": {},
   "source": [
    "By Luciano Ramalho "
   ]
  },
  {
   "cell_type": "markdown",
   "metadata": {},
   "source": [
    "### Prologue"
   ]
  },
  {
   "cell_type": "markdown",
   "metadata": {},
   "source": [
    "Running under the python hood is a 'data model' which can be thought of '...as a description of Python as a framework.' The data model formalizes the ways in which we interact with all of the basic language features (sequences, functions, classes, etc.)\n",
    "\n",
    "When we write `obj[key]`, for example, Python uses 'special methods' to implement the actual behavior we expect, which looks like this: `obj.__getitem__(key)`. The method preceded and succeeded by double underscores is known as a magic method, which is what ultimately gives Python its famous consistency. \n",
    "\n",
    "An example:"
   ]
  },
  {
   "cell_type": "code",
   "execution_count": 2,
   "metadata": {},
   "outputs": [],
   "source": [
    "import collections\n",
    "Card = collections.namedtuple('Card', ['rank', 'suit'])\n",
    "\n",
    "class FrenchDeck:\n",
    "    ranks = [str(n) for n in range(2,11)] + list('JQKA')\n",
    "    suits = 'spades diamonds clubs hearts'.split()\n",
    "    \n",
    "    def __init__(self):\n",
    "        self._cards = [Card(rank, suit) for suit in self.suits\n",
    "                                        for rank in self.ranks]\n",
    "    \n",
    "    def __len__(self):\n",
    "        return len(self._cards)\n",
    "    \n",
    "    def __getitem__(self, position):\n",
    "        return self._cards[position]"
   ]
  },
  {
   "cell_type": "markdown",
   "metadata": {},
   "source": [
    "Of note in the above is that collections.namedtuple() has been used to construct a class. This is possible whenever a class is just a set of attributes and contains no special methods. In the next two cells its use is illustrated:"
   ]
  },
  {
   "cell_type": "code",
   "execution_count": 3,
   "metadata": {},
   "outputs": [],
   "source": [
    "beer_card = Card('7', 'diamonds')"
   ]
  },
  {
   "cell_type": "code",
   "execution_count": 4,
   "metadata": {},
   "outputs": [
    {
     "data": {
      "text/plain": [
       "Card(rank='7', suit='diamonds')"
      ]
     },
     "execution_count": 4,
     "metadata": {},
     "output_type": "execute_result"
    }
   ],
   "source": [
    "beer_card"
   ]
  },
  {
   "cell_type": "markdown",
   "metadata": {},
   "source": [
    "What we're really interested in, however is the class FrenchDeck. Let's examine it. "
   ]
  },
  {
   "cell_type": "code",
   "execution_count": 13,
   "metadata": {},
   "outputs": [
    {
     "data": {
      "text/plain": [
       "(52,\n",
       " [Card(rank='2', suit='spades'),\n",
       "  Card(rank='3', suit='spades'),\n",
       "  Card(rank='4', suit='spades'),\n",
       "  Card(rank='5', suit='spades'),\n",
       "  Card(rank='6', suit='spades'),\n",
       "  Card(rank='7', suit='spades'),\n",
       "  Card(rank='8', suit='spades'),\n",
       "  Card(rank='9', suit='spades'),\n",
       "  Card(rank='10', suit='spades'),\n",
       "  Card(rank='J', suit='spades')],\n",
       " [Card(rank='9', suit='diamonds'),\n",
       "  Card(rank='10', suit='diamonds'),\n",
       "  Card(rank='J', suit='diamonds'),\n",
       "  Card(rank='Q', suit='diamonds'),\n",
       "  Card(rank='K', suit='diamonds'),\n",
       "  Card(rank='A', suit='diamonds'),\n",
       "  Card(rank='2', suit='clubs'),\n",
       "  Card(rank='3', suit='clubs'),\n",
       "  Card(rank='4', suit='clubs'),\n",
       "  Card(rank='5', suit='clubs')],\n",
       " Card(rank='A', suit='hearts'))"
      ]
     },
     "execution_count": 13,
     "metadata": {},
     "output_type": "execute_result"
    }
   ],
   "source": [
    "# ranks = [str(n) for n in range(2,11)] + list('JQKA')\n",
    "# This just uses list comprehension and the list() method to quickly and \n",
    "# efficiently make our suite of cards. \n",
    "\n",
    "# When called we get a full deck of cards:\n",
    "\n",
    "deck = FrenchDeck()\n",
    "len(deck), deck[0:10], deck[20:30], deck[-1]"
   ]
  },
  {
   "cell_type": "markdown",
   "metadata": {},
   "source": [
    "This construction was accomplished in part by the clever nested for-loop in the class definition. Looking at the output of the previous cell, we can see that the 'outer' loop is the first `for`, which selects the `spades` suit and then makes a full set of ranks for it before moving on to the next suit. \n",
    "\n",
    "But there's more. How is Python able to do this trick with `len()`, and how is it able to support slicing such as `deck[0:10]` out of the box? The answer to both questions is 'magic methods'. "
   ]
  },
  {
   "cell_type": "markdown",
   "metadata": {},
   "source": [
    "Iteration can be explicit or implicit. In the case of FrenchDeck() it is implicit, and the `in` operator works by sequentially scanning all the cards in deck checking for membership. "
   ]
  },
  {
   "cell_type": "code",
   "execution_count": 14,
   "metadata": {},
   "outputs": [
    {
     "name": "stdout",
     "output_type": "stream",
     "text": [
      "Card(rank='2', suit='clubs')\n",
      "Card(rank='2', suit='diamonds')\n",
      "Card(rank='2', suit='hearts')\n",
      "Card(rank='2', suit='spades')\n",
      "Card(rank='3', suit='clubs')\n",
      "Card(rank='3', suit='diamonds')\n",
      "Card(rank='3', suit='hearts')\n",
      "Card(rank='3', suit='spades')\n",
      "Card(rank='4', suit='clubs')\n",
      "Card(rank='4', suit='diamonds')\n",
      "Card(rank='4', suit='hearts')\n",
      "Card(rank='4', suit='spades')\n",
      "Card(rank='5', suit='clubs')\n",
      "Card(rank='5', suit='diamonds')\n",
      "Card(rank='5', suit='hearts')\n",
      "Card(rank='5', suit='spades')\n",
      "Card(rank='6', suit='clubs')\n",
      "Card(rank='6', suit='diamonds')\n",
      "Card(rank='6', suit='hearts')\n",
      "Card(rank='6', suit='spades')\n",
      "Card(rank='7', suit='clubs')\n",
      "Card(rank='7', suit='diamonds')\n",
      "Card(rank='7', suit='hearts')\n",
      "Card(rank='7', suit='spades')\n",
      "Card(rank='8', suit='clubs')\n",
      "Card(rank='8', suit='diamonds')\n",
      "Card(rank='8', suit='hearts')\n",
      "Card(rank='8', suit='spades')\n",
      "Card(rank='9', suit='clubs')\n",
      "Card(rank='9', suit='diamonds')\n",
      "Card(rank='9', suit='hearts')\n",
      "Card(rank='9', suit='spades')\n",
      "Card(rank='10', suit='clubs')\n",
      "Card(rank='10', suit='diamonds')\n",
      "Card(rank='10', suit='hearts')\n",
      "Card(rank='10', suit='spades')\n",
      "Card(rank='J', suit='clubs')\n",
      "Card(rank='J', suit='diamonds')\n",
      "Card(rank='J', suit='hearts')\n",
      "Card(rank='J', suit='spades')\n",
      "Card(rank='Q', suit='clubs')\n",
      "Card(rank='Q', suit='diamonds')\n",
      "Card(rank='Q', suit='hearts')\n",
      "Card(rank='Q', suit='spades')\n",
      "Card(rank='K', suit='clubs')\n",
      "Card(rank='K', suit='diamonds')\n",
      "Card(rank='K', suit='hearts')\n",
      "Card(rank='K', suit='spades')\n",
      "Card(rank='A', suit='clubs')\n",
      "Card(rank='A', suit='diamonds')\n",
      "Card(rank='A', suit='hearts')\n",
      "Card(rank='A', suit='spades')\n"
     ]
    }
   ],
   "source": [
    "suit_values = dict(spades=3, hearts=2, diamonds=1, clubs=0)\n",
    "\n",
    "def spades_high(card):\n",
    "    rank_value = FrenchDeck.ranks.index(card.rank)\n",
    "    return rank_value * len(suit_values) + suit_values[card.suit]\n",
    "\n",
    "for card in sorted(deck, key=spades_high):\n",
    "    print(card)"
   ]
  },
  {
   "cell_type": "code",
   "execution_count": 19,
   "metadata": {},
   "outputs": [
    {
     "data": {
      "text/plain": [
       "True"
      ]
     },
     "execution_count": 19,
     "metadata": {},
     "output_type": "execute_result"
    }
   ],
   "source": [
    "# List comprehensions do all the same things that the filter and map \n",
    "# functions do. \n",
    "\n",
    "symbols = '$¢£¥€¤'\n",
    "beyond_ascii = [ord(s) for s in symbols if ord(s) > 127]\n",
    "beyond_ascii_2 = list(filter(lambda c: c > 127, map(ord,symbols)))\n",
    "beyond_ascii_2 == beyond_ascii"
   ]
  },
  {
   "cell_type": "code",
   "execution_count": 21,
   "metadata": {},
   "outputs": [],
   "source": [
    "# Cartesian product with a list comprehension. \n",
    "\n",
    "colors = ['black', 'white']\n",
    "sizes = ['s', 'm', 'l']\n",
    "tshirts = [(color,size) for color in colors for size in sizes]"
   ]
  },
  {
   "cell_type": "code",
   "execution_count": null,
   "metadata": {},
   "outputs": [],
   "source": []
  }
 ],
 "metadata": {
  "kernelspec": {
   "display_name": "Python 3",
   "language": "python",
   "name": "python3"
  },
  "language_info": {
   "codemirror_mode": {
    "name": "ipython",
    "version": 3
   },
   "file_extension": ".py",
   "mimetype": "text/x-python",
   "name": "python",
   "nbconvert_exporter": "python",
   "pygments_lexer": "ipython3",
   "version": "3.6.6"
  }
 },
 "nbformat": 4,
 "nbformat_minor": 2
}
